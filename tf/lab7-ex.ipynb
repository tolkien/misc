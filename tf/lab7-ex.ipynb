{
 "cells": [
  {
   "cell_type": "markdown",
   "metadata": {},
   "source": [
    "MNIST For ML Beginners\n",
    "https://www.tensorflow.org/versions/r0.12/tutorials/mnist/beginners/"
   ]
  },
  {
   "cell_type": "markdown",
   "metadata": {},
   "source": [
    "The MNIST data is hosted on Yann LeCun's website(http://yann.lecun.com/exdb/mnist/). If you are copying and pasting in the code from this tutorial, start here with these two lines of code which will download and read in the data automatically:"
   ]
  },
  {
   "cell_type": "code",
   "execution_count": 1,
   "metadata": {},
   "outputs": [
    {
     "name": "stdout",
     "output_type": "stream",
     "text": [
      "Extracting MNIST_data/train-images-idx3-ubyte.gz\n",
      "Extracting MNIST_data/train-labels-idx1-ubyte.gz\n",
      "Extracting MNIST_data/t10k-images-idx3-ubyte.gz\n",
      "Extracting MNIST_data/t10k-labels-idx1-ubyte.gz\n"
     ]
    }
   ],
   "source": [
    "# https://www.tensorflow.org/versions/r0.12/tutorials/mnist/beginners/\n",
    "from tensorflow.examples.tutorials.mnist import input_data\n",
    "mnist = input_data.read_data_sets(\"MNIST_data/\", one_hot=True)"
   ]
  },
  {
   "cell_type": "markdown",
   "metadata": {},
   "source": [
    "Implementing the Regression"
   ]
  },
  {
   "cell_type": "code",
   "execution_count": 2,
   "metadata": {},
   "outputs": [],
   "source": [
    "import tensorflow as tf\n",
    "\n",
    "x = tf.placeholder(tf.float32, [None, 784])\n",
    "W = tf.Variable(tf.zeros([784, 10]))\n",
    "b = tf.Variable(tf.zeros([10]))\n",
    "\n",
    "# y == hypothesis\n",
    "y = tf.nn.softmax(tf.matmul(x, W) + b)"
   ]
  },
  {
   "cell_type": "markdown",
   "metadata": {},
   "source": [
    "Training"
   ]
  },
  {
   "cell_type": "code",
   "execution_count": 3,
   "metadata": {},
   "outputs": [
    {
     "name": "stdout",
     "output_type": "stream",
     "text": [
      "Epoch: 0001 cost = 0.403418125\n",
      "Epoch: 0002 cost = 0.310536775\n",
      "Epoch: 0003 cost = 0.295193166\n",
      "Epoch: 0004 cost = 0.286539707\n",
      "Epoch: 0005 cost = 0.281588302\n",
      "Epoch: 0006 cost = 0.277909960\n",
      "Epoch: 0007 cost = 0.274699409\n",
      "Epoch: 0008 cost = 0.271966946\n",
      "Epoch: 0009 cost = 0.269758330\n",
      "Epoch: 0010 cost = 0.267622066\n",
      "Learning finished\n"
     ]
    }
   ],
   "source": [
    "# y_ == label\n",
    "y_ = tf.placeholder(tf.float32, [None, 10])\n",
    "# cross_entropy == cost/lost function\n",
    "cross_entropy = tf.reduce_mean(-tf.reduce_sum(y_ * tf.log(y), reduction_indices=[1]))\n",
    "train_step = tf.train.GradientDescentOptimizer(0.5).minimize(cross_entropy)\n",
    "\n",
    "# parameters\n",
    "training_epochs = 10\n",
    "batch_size = 100\n",
    "total_batch = int(mnist.train.num_examples / batch_size)\n",
    "\n",
    "sess = tf.Session()\n",
    "sess.run(tf.global_variables_initializer())\n",
    "for epoch in range(training_epochs):\n",
    "    cost = 0\n",
    "    for i in range(total_batch):\n",
    "        batch_xs, batch_ys = mnist.train.next_batch(batch_size)\n",
    "        c, _ = sess.run([cross_entropy, train_step],\n",
    "                        feed_dict={x: batch_xs, y_: batch_ys})\n",
    "        cost += c / total_batch\n",
    "    print('Epoch:', '%04d' % (epoch + 1),\n",
    "          'cost =', '{:.9f}'.format(cost))\n",
    "print(\"Learning finished\")"
   ]
  },
  {
   "cell_type": "markdown",
   "metadata": {},
   "source": [
    "Evaluating Our Model"
   ]
  },
  {
   "cell_type": "code",
   "execution_count": 4,
   "metadata": {},
   "outputs": [
    {
     "name": "stdout",
     "output_type": "stream",
     "text": [
      "0.9233\n"
     ]
    }
   ],
   "source": [
    "correct_prediction = tf.equal(tf.argmax(y,1), tf.argmax(y_,1))\n",
    "accuracy = tf.reduce_mean(tf.cast(correct_prediction, tf.float32))\n",
    "print(sess.run(accuracy, feed_dict={x: mnist.test.images, y_: mnist.test.labels}))"
   ]
  },
  {
   "cell_type": "markdown",
   "metadata": {},
   "source": [
    "Deep MNIST for Experts\n",
    "https://www.tensorflow.org/versions/r0.12/tutorials/mnist/pros/"
   ]
  },
  {
   "cell_type": "markdown",
   "metadata": {},
   "source": [
    "Shape"
   ]
  },
  {
   "cell_type": "code",
   "execution_count": 5,
   "metadata": {},
   "outputs": [
    {
     "name": "stdout",
     "output_type": "stream",
     "text": [
      "-----------reshape------------\n",
      "shape: [2 6] size: 12 rank: 2\n",
      "[[1 3 5 7 9 0]\n",
      " [2 4 6 8 3 7]]\n",
      "shape: [4 3] size: 12 rank: 2\n",
      "[[1 3 5]\n",
      " [7 9 0]\n",
      " [2 4 6]\n",
      " [8 3 7]]\n",
      "shape: [6] size: 6 rank: 1\n",
      "[1 2 3 7 8 9]\n",
      "-----------squeeze------------\n",
      "shape: [2 2 1 3] size: 12 rank: 4\n",
      "[[[[1 3 5]]\n",
      "\n",
      "  [[7 9 0]]]\n",
      "\n",
      "\n",
      " [[[2 4 6]]\n",
      "\n",
      "  [[8 3 7]]]]\n",
      "shape: [2 2 3] size: 12 rank: 3\n",
      "[[[1 3 5]\n",
      "  [7 9 0]]\n",
      "\n",
      " [[2 4 6]\n",
      "  [8 3 7]]]\n",
      "shape: [1 4 1 3 1] size: 12 rank: 5\n",
      "[[[[[1]\n",
      "    [3]\n",
      "    [5]]]\n",
      "\n",
      "\n",
      "  [[[7]\n",
      "    [9]\n",
      "    [0]]]\n",
      "\n",
      "\n",
      "  [[[2]\n",
      "    [4]\n",
      "    [6]]]\n",
      "\n",
      "\n",
      "  [[[8]\n",
      "    [3]\n",
      "    [7]]]]]\n",
      "shape: [4 3] size: 12 rank: 2\n",
      "[[1 3 5]\n",
      " [7 9 0]\n",
      " [2 4 6]\n",
      " [8 3 7]]\n"
     ]
    }
   ],
   "source": [
    "sess = tf.InteractiveSession()\n",
    "\n",
    "def show_(t):\n",
    "    print('shape:', tf.shape(t).eval(), 'size:', tf.size(t).eval(), 'rank:', tf.rank(t).eval())\n",
    "    print(t.eval())\n",
    "\n",
    "c1 = tf.constant([1, 3, 5, 7, 9, 0, 2, 4, 6, 8, 3, 7])\n",
    "c4 = tf.constant([[1, 2, 3], [7, 8, 9]])\n",
    "\n",
    "print('-----------reshape------------')\n",
    "show_(tf.reshape(c1, [2, -1]))    # [[1 3 5 7 9 0] [2 4 6 8 3 7]]\n",
    "show_(tf.reshape(c1, [-1, 3]))    # [[1 3 5] [7 9 0] [2 4 6] [8 3 7]]\n",
    "show_(tf.reshape(c4, [-1]))       # [1 2 3 7 8 9]\n",
    "\n",
    "c2 = tf.reshape(c1, [2, 2, 1, 3])\n",
    "c3 = tf.reshape(c1, [1, 4, 1, 3, 1])\n",
    "\n",
    "# removes dimensions of size 1\n",
    "print('-----------squeeze------------')\n",
    "show_(c2)\n",
    "# [          -> tensor\n",
    "#  [         -> tf.reshape(c1, [2,\n",
    "#    [       -> tf.reshape(c1, [2, 2,\n",
    "#     [      -> tf.reshape(c1, [2, 2, 1,\n",
    "#      1 3 5 -> tf.reshape(c1, [2, 2, 1, 3])\n",
    "#     ]\n",
    "#    ]\n",
    "#    [\n",
    "#     [7 9 0]\n",
    "#    ]\n",
    "#  ]\n",
    "#  [[[2 4 6]] [[8 3 7]]]\n",
    "# ]\n",
    "show_(tf.squeeze(c2))    # [[[1 3 5] [7 9 0]]  [[2 4 6] [8 3 7]]]\n",
    "\n",
    "# [[[[[1] [3] [5]]]  [[[7] [9] [0]]]  [[[2] [4] [6]]]  [[[8] [3] [7]]]]]\n",
    "show_(c3)\n",
    "show_(tf.squeeze(c3))    # [[1 3 5] [7 9 0] [2 4 6] [8 3 7]]\n",
    "\n",
    "sess.close()"
   ]
  }
 ],
 "metadata": {
  "kernelspec": {
   "display_name": "Python 3",
   "language": "python",
   "name": "python3"
  },
  "language_info": {
   "codemirror_mode": {
    "name": "ipython",
    "version": 3
   },
   "file_extension": ".py",
   "mimetype": "text/x-python",
   "name": "python",
   "nbconvert_exporter": "python",
   "pygments_lexer": "ipython3",
   "version": "3.6.4"
  }
 },
 "nbformat": 4,
 "nbformat_minor": 2
}
