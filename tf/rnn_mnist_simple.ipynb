{
 "cells": [
  {
   "cell_type": "markdown",
   "metadata": {},
   "source": [
    "references\n",
    "- https://tensorflow.blog/2016/05/30/sungjoons-tensorflow-101-deep-learning-tutorials/\n",
    "- https://github.com/sjchoi86/Tensorflow-101/blob/master/notebooks/rnn_mnist_simple.ipynb\n",
    "- https://tensorflow.blog/tag/examples/\n",
    "- http://www.modulabs.co.kr/DeepLAB_Paper/14660\n",
    "- https://github.com/golbin/TensorFlow-Tutorials\n",
    "\n",
    "# Sequence classification with LSTM"
   ]
  },
  {
   "cell_type": "code",
   "execution_count": 1,
   "metadata": {},
   "outputs": [
    {
     "name": "stdout",
     "output_type": "stream",
     "text": [
      "Extracting MNIST_data/train-images-idx3-ubyte.gz\n",
      "Extracting MNIST_data/train-labels-idx1-ubyte.gz\n",
      "Extracting MNIST_data/t10k-images-idx3-ubyte.gz\n",
      "Extracting MNIST_data/t10k-labels-idx1-ubyte.gz\n",
      "MNIST loaded: 55000 10000 784 10\n"
     ]
    }
   ],
   "source": [
    "import tensorflow as tf\n",
    "import tensorflow.examples.tutorials.mnist.input_data as input_data\n",
    "import numpy as np\n",
    "import matplotlib.pyplot as plt\n",
    "#%matplotlib inline \n",
    "\n",
    "tf.reset_default_graph()\n",
    "\n",
    "mnist = input_data.read_data_sets(\"MNIST_data/\", one_hot=True)\n",
    "trainimgs, trainlabels, testimgs, testlabels \\\n",
    " = mnist.train.images, mnist.train.labels, mnist.test.images, mnist.test.labels \n",
    "ntrain, ntest, dim, nclasses \\\n",
    " = trainimgs.shape[0], testimgs.shape[0], trainimgs.shape[1], trainlabels.shape[1]\n",
    "print (\"MNIST loaded:\", ntrain, ntest, dim, nclasses)"
   ]
  },
  {
   "cell_type": "markdown",
   "metadata": {},
   "source": [
    "# We will treat the MNIST image $\\in \\mathcal{R}^{28 \\times 28}$ as $28$ sequences of a vector $\\mathbf{x} \\in \\mathcal{R}^{28}$.\n",
    "# Our simple RNN consists of\n",
    "1. One input layer which converts a $28$ dimensional input to an $128$ dimensional hidden layer,\n",
    "2. One intermediate recurrent neural network (LSTM)\n",
    "3. One output layer which converts an $128$ dimensional output of the LSTM to $10$ dimensional output indicating a class label."
   ]
  },
  {
   "cell_type": "markdown",
   "metadata": {},
   "source": [
    "<img src=\"screenshot/rnn_input3.jpg\" width=\"700\" height=\"400\" >"
   ]
  },
  {
   "cell_type": "markdown",
   "metadata": {},
   "source": [
    "# Contruct a Recurrent Neural Network"
   ]
  },
  {
   "cell_type": "code",
   "execution_count": 2,
   "metadata": {},
   "outputs": [],
   "source": [
    "diminput  = 28\n",
    "dimhidden = 128\n",
    "dimoutput = nclasses\n",
    "nsteps    = 28\n",
    "weights = {\n",
    "    'hidden': tf.Variable(tf.random_normal([diminput, dimhidden])), \n",
    "    'out': tf.Variable(tf.random_normal([dimhidden, dimoutput]))\n",
    "}\n",
    "biases = {\n",
    "    'hidden': tf.Variable(tf.random_normal([dimhidden])),\n",
    "    'out': tf.Variable(tf.random_normal([dimoutput]))\n",
    "}"
   ]
  },
  {
   "cell_type": "code",
   "execution_count": 3,
   "metadata": {},
   "outputs": [
    {
     "name": "stdout",
     "output_type": "stream",
     "text": [
      "Network ready\n"
     ]
    }
   ],
   "source": [
    "def _RNN(_X, _istate, _W, _b, _nsteps, _name):\n",
    "    # 1. Permute input from [batchsize, nsteps, diminput] \n",
    "    #   => [nsteps, batchsize, diminput]\n",
    "    _X = tf.transpose(_X, [1, 0, 2])\n",
    "    # 2. Reshape input to [nsteps*batchsize, diminput] \n",
    "    _X = tf.reshape(_X, [-1, diminput])\n",
    "    # 3. Input layer => Hidden layer\n",
    "    _H = tf.matmul(_X, _W['hidden']) + _b['hidden']\n",
    "    # 4. Splite data to 'nsteps' chunks. An i-th chunck indicates i-th batch data \n",
    "    _Hsplit = tf.split(axis=0, num_or_size_splits=_nsteps, value=_H)\n",
    "    # 5. Get LSTM's final output (_LSTM_O) and state (_LSTM_S)\n",
    "    #    Both _LSTM_O and _LSTM_S consist of 'batchsize' elements\n",
    "    #    Only _LSTM_O will be used to predict the output. \n",
    "    with tf.variable_scope(_name):\n",
    "        lstm_cell = tf.nn.rnn_cell.BasicLSTMCell(num_units=dimhidden)\n",
    "        _LSTM_O, _LSTM_S = tf.nn.static_rnn(cell=lstm_cell, inputs=_Hsplit, initial_state=_istate)\n",
    "    # 6. Output\n",
    "    _O = tf.matmul(_LSTM_O[-1], _W['out']) + _b['out']    \n",
    "    # Return! \n",
    "    return {\n",
    "        'X': _X, 'H': _H, 'Hsplit': _Hsplit,\n",
    "        'LSTM_O': _LSTM_O, 'LSTM_S': _LSTM_S, 'O': _O \n",
    "    }\n",
    "print (\"Network ready\")"
   ]
  },
  {
   "cell_type": "markdown",
   "metadata": {},
   "source": [
    "# Out Network looks like this"
   ]
  },
  {
   "cell_type": "markdown",
   "metadata": {},
   "source": [
    "<img src=\"screenshot/rnn_mnist_look.jpg\" width=\"700\" height=\"400\" >"
   ]
  },
  {
   "cell_type": "markdown",
   "metadata": {},
   "source": [
    "# Define functions"
   ]
  },
  {
   "cell_type": "code",
   "execution_count": 4,
   "metadata": {},
   "outputs": [
    {
     "name": "stdout",
     "output_type": "stream",
     "text": [
      "Function Ready!\n"
     ]
    }
   ],
   "source": [
    "learning_rate = 0.001\n",
    "x      = tf.placeholder(tf.float32, [None, nsteps, diminput])\n",
    "istate = (tf.placeholder(tf.float32, [None, dimhidden]),\n",
    "          tf.placeholder(tf.float32, [None, dimhidden]))\n",
    "# state & cell => 2x n_hidden\n",
    "y      = tf.placeholder(tf.float32, [None, dimoutput])\n",
    "myrnn  = _RNN(x, istate, weights, biases, nsteps, 'basic')\n",
    "pred   = myrnn['O']\n",
    "cost   = tf.reduce_mean(tf.nn.softmax_cross_entropy_with_logits_v2(logits=pred, labels=y)) \n",
    "optm   = tf.train.AdamOptimizer(learning_rate).minimize(cost) # Adam Optimizer\n",
    "accr   = tf.reduce_mean(tf.cast(tf.equal(tf.argmax(pred,1), tf.argmax(y,1)), tf.float32))\n",
    "print (\"Function Ready!\")"
   ]
  },
  {
   "cell_type": "markdown",
   "metadata": {},
   "source": [
    "# Run!"
   ]
  },
  {
   "cell_type": "code",
   "execution_count": 5,
   "metadata": {},
   "outputs": [
    {
     "name": "stdout",
     "output_type": "stream",
     "text": [
      "Epoch: 000/015 cost: 0.534260896\n",
      "Epoch: 001/015 cost: 0.166013542\n",
      "Epoch: 002/015 cost: 0.104741459\n",
      "Epoch: 003/015 cost: 0.089928907\n",
      "Epoch: 004/015 cost: 0.072116391\n",
      "Epoch: 005/015 cost: 0.060656746\n",
      "Epoch: 006/015 cost: 0.053227778\n",
      "Epoch: 007/015 cost: 0.046259151\n",
      "Epoch: 008/015 cost: 0.043315892\n",
      "Epoch: 009/015 cost: 0.040583432\n",
      "Epoch: 010/015 cost: 0.032860814\n",
      "Epoch: 011/015 cost: 0.032396291\n",
      "Epoch: 012/015 cost: 0.029433443\n",
      "Epoch: 013/015 cost: 0.028159913\n",
      "Epoch: 014/015 cost: 0.026913550\n",
      "Learning Finished\n",
      "accuracy: 0.978\n"
     ]
    }
   ],
   "source": [
    "training_epochs = 15\n",
    "batch_size      = 128\n",
    "sess = tf.Session()\n",
    "sess.run(tf.global_variables_initializer())\n",
    "summary_writer = tf.summary.FileWriter('logs/rnn_mnist_simple', graph=sess.graph)\n",
    "\n",
    "for epoch in range(training_epochs):\n",
    "    avg_cost = 0.\n",
    "    total_batch = int(mnist.train.num_examples/batch_size)\n",
    "    # Loop over all batches\n",
    "    for i in range(total_batch):\n",
    "        batch_xs, batch_ys = mnist.train.next_batch(batch_size)\n",
    "        batch_xs = batch_xs.reshape((batch_size, nsteps, diminput))\n",
    "        # Fit training using batch data\n",
    "        _, _cost = sess.run([optm, cost], feed_dict={\n",
    "            x: batch_xs, y: batch_ys, istate: (\n",
    "                np.zeros((batch_size, dimhidden)),\n",
    "                np.zeros((batch_size, dimhidden)))})\n",
    "        # Compute average loss\n",
    "        avg_cost += _cost\n",
    "    avg_cost /= total_batch\n",
    "\n",
    "    print (\"Epoch: %03d/%03d cost: %.9f\" % (epoch, training_epochs, avg_cost))\n",
    "\n",
    "print(\"Learning Finished\")\n",
    "\n",
    "testimgs = testimgs.reshape((ntest, nsteps, diminput))\n",
    "test_acc = sess.run(accr, feed_dict={\n",
    "    x: testimgs, y: testlabels, istate: (\n",
    "        np.zeros((ntest, dimhidden)),\n",
    "        np.zeros((ntest, dimhidden)))})\n",
    "print (\"accuracy: %.3f\" % (test_acc))"
   ]
  },
  {
   "cell_type": "markdown",
   "metadata": {},
   "source": [
    "# What we have done so far is to feed 28 sequences of vectors $ \\mathbf{x} \\in \\mathcal{R}^{28}$. What will happen if we feed first 25 sequences of $\\mathbf{x}$?"
   ]
  },
  {
   "cell_type": "code",
   "execution_count": 6,
   "metadata": {},
   "outputs": [
    {
     "name": "stdout",
     "output_type": "stream",
     "text": [
      " If we use 25 seqs, test accuracy becomes 0.861\n"
     ]
    }
   ],
   "source": [
    "# How may sequences will we use?\n",
    "nsteps2     = 25\n",
    "\n",
    "# Test with truncated inputs\n",
    "testimgs = testimgs.reshape((ntest, nsteps, diminput))\n",
    "testimgs_trucated = np.zeros(testimgs.shape)\n",
    "testimgs_trucated[:, 28-nsteps2:] = testimgs[:, :nsteps2, :]\n",
    "feeds = {x: testimgs_trucated, y: testlabels, istate: (np.zeros((ntest, dimhidden)), np.zeros((ntest, dimhidden)))}\n",
    "test_acc = sess.run(accr, feed_dict=feeds)\n",
    "print (\" If we use %d seqs, test accuracy becomes %.3f\" % (nsteps2, test_acc))"
   ]
  },
  {
   "cell_type": "markdown",
   "metadata": {},
   "source": [
    "# What's going on inside the RNN?"
   ]
  },
  {
   "cell_type": "code",
   "execution_count": 7,
   "metadata": {},
   "outputs": [
    {
     "name": "stdout",
     "output_type": "stream",
     "text": [
      "Shape of 'xtest' is (5, 784)\n",
      "Shape of 'xtest1' is (5, 28, 28)\n",
      "Shape of 'rnnout_X' is (140, 28)\n",
      "Shape of 'rnnout_H' is (140, 128)\n",
      "Type of 'rnnout_Hsplit' is <class 'list'>\n",
      "Length of 'rnnout_Hsplit' is 28 and the shape of each item is (5, 128)\n",
      "Type of 'rnnout_LSTM_O' is <class 'list'>\n",
      "Length of 'rnnout_LSTM_O' is 28 and the shape of each item is (5, 128)\n",
      "Shape of 'rnnout_O' is (5, 10)\n"
     ]
    }
   ],
   "source": [
    "# Inputs to the RNN\n",
    "batch_size = 5\n",
    "xtest, _ = mnist.test.next_batch(batch_size)\n",
    "print (\"Shape of 'xtest' is %s\" % (xtest.shape,))\n",
    "\n",
    "# Reshaped inputs\n",
    "xtest1 = xtest.reshape((batch_size, nsteps, diminput))\n",
    "print (\"Shape of 'xtest1' is %s\" % (xtest1.shape,))\n",
    "\n",
    "# Feeds: inputs and initial states\n",
    "feeds = {x: xtest1, istate: (np.zeros((batch_size, dimhidden)), np.zeros((batch_size, dimhidden)))}\n",
    "\n",
    "# Each indivisual input to the LSTM\n",
    "rnnout_X = sess.run(myrnn['X'], feed_dict=feeds)\n",
    "print (\"Shape of 'rnnout_X' is %s\" % (rnnout_X.shape,))\n",
    "\n",
    "# Each indivisual intermediate state\n",
    "rnnout_H = sess.run(myrnn['H'], feed_dict=feeds)\n",
    "print (\"Shape of 'rnnout_H' is %s\" % (rnnout_H.shape,))\n",
    "\n",
    "# Actual input to the LSTM (List)\n",
    "rnnout_Hsplit = sess.run(myrnn['Hsplit'], feed_dict=feeds)\n",
    "print (\"Type of 'rnnout_Hsplit' is %s\" % (type(rnnout_Hsplit)))\n",
    "print (\"Length of 'rnnout_Hsplit' is %s and the shape of each item is %s\" \n",
    "       % (len(rnnout_Hsplit), rnnout_Hsplit[0].shape))\n",
    "\n",
    "# Output from the LSTM (List)\n",
    "rnnout_LSTM_O = sess.run(myrnn['LSTM_O'], feed_dict=feeds)\n",
    "print (\"Type of 'rnnout_LSTM_O' is %s\" % (type(rnnout_LSTM_O)))\n",
    "print (\"Length of 'rnnout_LSTM_O' is %s and the shape of each item is %s\" \n",
    "       % (len(rnnout_LSTM_O), rnnout_LSTM_O[0].shape))\n",
    "\n",
    "# Final prediction\n",
    "rnnout_O = sess.run(myrnn['O'], feed_dict=feeds)\n",
    "print (\"Shape of 'rnnout_O' is %s\" % (rnnout_O.shape,))"
   ]
  }
 ],
 "metadata": {
  "kernelspec": {
   "display_name": "Python 3",
   "language": "python",
   "name": "python3"
  },
  "language_info": {
   "codemirror_mode": {
    "name": "ipython",
    "version": 3
   },
   "file_extension": ".py",
   "mimetype": "text/x-python",
   "name": "python",
   "nbconvert_exporter": "python",
   "pygments_lexer": "ipython3",
   "version": "3.6.4"
  }
 },
 "nbformat": 4,
 "nbformat_minor": 2
}
