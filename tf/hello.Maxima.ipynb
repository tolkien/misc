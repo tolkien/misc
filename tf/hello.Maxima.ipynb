{
 "cells": [
  {
   "cell_type": "code",
   "execution_count": 2,
   "metadata": {},
   "outputs": [
    {
     "data": {
      "text/latex": [
       "$$\\tag{${\\it \\%o_5}$}f\\left(x\\right):=\\sin x$$"
      ],
      "text/plain": [
       "(%o5)                           f(x) := sin(x)"
      ],
      "text/x-maxima": [
       "f(x):=sin(x)"
      ]
     },
     "execution_count": 3,
     "metadata": {},
     "output_type": "execute_result"
    },
    {
     "data": {
      "text/latex": [
       "$$\\tag{${\\it \\%o_6}$}g\\left(x\\right):=\\arcsin x$$"
      ],
      "text/plain": [
       "(%o6)                           g(x) := asin(x)"
      ],
      "text/x-maxima": [
       "g(x):=asin(x)"
      ]
     },
     "execution_count": 3,
     "metadata": {},
     "output_type": "execute_result"
    },
    {
     "data": {
      "text/latex": [
       "$$\\tag{${\\it \\%o_7}$}r\\left(x\\right):=g\\left(f\\left(x\\right)\\right)$$"
      ],
      "text/plain": [
       "(%o7)                           r(x) := g(f(x))"
      ],
      "text/x-maxima": [
       "r(x):=g(f(x))"
      ]
     },
     "execution_count": 3,
     "metadata": {},
     "output_type": "execute_result"
    },
    {
     "data": {
      "text/latex": [
       "$$\\tag{${\\it \\%o_8}$}\\left[ \\mbox{ /var/folders/l0/l803j7655w5chjcrf6\\_c42lh0000gn/T/maxout93795.gnuplot\\_pipes } \\right] $$"
      ],
      "text/plain": [
       "(%o8) \n",
       "   [/var/folders/l0/l803j7655w5chjcrf6_c42lh0000gn/T/maxout93795.gnuplot_pipes]"
      ],
      "text/x-maxima": [
       "[\"/var/folders/l0/l803j7655w5chjcrf6_c42lh0000gn/T/maxout93795.gnuplot_pipes\"]"
      ]
     },
     "execution_count": 3,
     "metadata": {},
     "output_type": "execute_result"
    },
    {
     "name": "stdout",
     "output_type": "stream",
     "text": [
      "plot2d: expression evaluates to non-numeric value somewhere in plotting range.\n",
      "plot2d: some values were clipped.\n",
      "plot2d: some values were clipped.\n"
     ]
    }
   ],
   "source": [
    "/* [wxMaxima batch file version 1] [ DO NOT EDIT BY HAND! ]*/\n",
    "/* [ Created with http://maxima-online.org ] */\n",
    "\n",
    "/* [wxMaxima: comment start ]\n",
    "This solution online http://maxima-online.org/?inc=r-1038320779\n",
    "   [wxMaxima: comment end   ] */\n",
    "\n",
    "/* [wxMaxima: input   start ] */\n",
    "f(x) := sin(x);\n",
    "g(x) := asin(x);\n",
    "r(x) := g(f(x));\n",
    "plot2d([f(x),g(x),r(x)],[x,-%pi/2,%pi/2],[y,-1,1]);\n",
    "/* [wxMaxima: input   end   ] */"
   ]
  },
  {
   "cell_type": "code",
   "execution_count": 4,
   "metadata": {},
   "outputs": [
    {
     "data": {
      "text/latex": [
       "$$\\tag{${\\it \\%o_9}$}f\\left(x\\right):=x^2+1$$"
      ],
      "text/plain": [
       "                                         2\n",
       "(%o9)                           f(x) := x  + 1"
      ],
      "text/x-maxima": [
       "f(x):=x^2+1"
      ]
     },
     "execution_count": 5,
     "metadata": {},
     "output_type": "execute_result"
    },
    {
     "data": {
      "text/latex": [
       "$$\\tag{${\\it \\%o_{10}}$}2$$"
      ],
      "text/plain": [
       "(%o10)                                 2"
      ],
      "text/x-maxima": [
       "2"
      ]
     },
     "execution_count": 5,
     "metadata": {},
     "output_type": "execute_result"
    },
    {
     "data": {
      "text/latex": [
       "$$\\tag{${\\it \\%o_{11}}$}\\left[ \\mbox{ /var/folders/l0/l803j7655w5chjcrf6\\_c42lh0000gn/T/maxout93795.gnuplot\\_pipes } \\right] $$"
      ],
      "text/plain": [
       "(%o11) \n",
       "   [/var/folders/l0/l803j7655w5chjcrf6_c42lh0000gn/T/maxout93795.gnuplot_pipes]"
      ],
      "text/x-maxima": [
       "[\"/var/folders/l0/l803j7655w5chjcrf6_c42lh0000gn/T/maxout93795.gnuplot_pipes\"]"
      ]
     },
     "execution_count": 5,
     "metadata": {},
     "output_type": "execute_result"
    }
   ],
   "source": [
    "f(x) := x^2 + 1;\n",
    "1+1;\n",
    "plot2d([f(x)], [x, -2, 2]);"
   ]
  },
  {
   "cell_type": "markdown",
   "metadata": {},
   "source": [
    "함수의 극한"
   ]
  },
  {
   "cell_type": "code",
   "execution_count": 2,
   "metadata": {},
   "outputs": [
    {
     "data": {
      "text/latex": [
       "$$\\tag{${\\it \\%o_1}$}\\frac{3}{2}$$"
      ],
      "text/plain": [
       "                                       3\n",
       "(%o1)                                  -\n",
       "                                       2"
      ],
      "text/x-maxima": [
       "3/2"
      ]
     },
     "execution_count": 3,
     "metadata": {},
     "output_type": "execute_result"
    },
    {
     "data": {
      "text/latex": [
       "$$\\tag{${\\it \\%o_2}$}a^{n}$$"
      ],
      "text/plain": [
       "                                       n\n",
       "(%o2)                                 a"
      ],
      "text/x-maxima": [
       "a^n"
      ]
     },
     "execution_count": 3,
     "metadata": {},
     "output_type": "execute_result"
    },
    {
     "data": {
      "text/latex": [
       "$$\\tag{${\\it \\%o_3}$}1$$"
      ],
      "text/plain": [
       "(%o3)                                  1"
      ],
      "text/x-maxima": [
       "1"
      ]
     },
     "execution_count": 3,
     "metadata": {},
     "output_type": "execute_result"
    }
   ],
   "source": [
    "limit((x^3-1)/(x^2-1),x,1);\n",
    "limit(x^n, x, a);\n",
    "limit(sin(x)/x, x, 0);"
   ]
  },
  {
   "cell_type": "code",
   "execution_count": 5,
   "metadata": {},
   "outputs": [
    {
     "data": {
      "text/latex": [
       "$$\\tag{${\\it \\%o_5}$}\\frac{1}{2}$$"
      ],
      "text/plain": [
       "                                       1\n",
       "(%o5)                                  -\n",
       "                                       2"
      ],
      "text/x-maxima": [
       "1/2"
      ]
     },
     "execution_count": 6,
     "metadata": {},
     "output_type": "execute_result"
    }
   ],
   "source": [
    "limit((sqrt(1+h)-1)/h, h, 0);"
   ]
  },
  {
   "cell_type": "code",
   "execution_count": 7,
   "metadata": {},
   "outputs": [
    {
     "data": {
      "text/latex": [
       "$$\\tag{${\\it \\%o_6}$}\\frac{x-2}{x^2+3}$$"
      ],
      "text/plain": [
       "                                    x - 2\n",
       "(%o6)                               ------\n",
       "                                     2\n",
       "                                    x  + 3"
      ],
      "text/x-maxima": [
       "(x-2)/(x^2+3)"
      ]
     },
     "execution_count": 8,
     "metadata": {},
     "output_type": "execute_result"
    }
   ],
   "source": [
    "(x-2)/(x^2+3);"
   ]
  },
  {
   "cell_type": "code",
   "execution_count": 12,
   "metadata": {},
   "outputs": [
    {
     "data": {
      "text/latex": [
       "$$\\tag{${\\it \\%o_{11}}$}\\frac{1}{x^2+3}-\\frac{2\\,\\left(x-2\\right)\\,x}{\\left(x^2+3\\right)^2}$$"
      ],
      "text/plain": [
       "                               1      2 (x - 2) x\n",
       "(%o11)                       ------ - -----------\n",
       "                              2          2     2\n",
       "                             x  + 3    (x  + 3)"
      ],
      "text/x-maxima": [
       "1/(x^2+3)-(2*(x-2)*x)/(x^2+3)^2"
      ]
     },
     "execution_count": 13,
     "metadata": {},
     "output_type": "execute_result"
    }
   ],
   "source": [
    "diff((x-2)/(x^2+3),x,1);"
   ]
  },
  {
   "cell_type": "code",
   "execution_count": 13,
   "metadata": {},
   "outputs": [
    {
     "data": {
      "text/latex": [
       "$$\\tag{${\\it \\%o_{12}}$}-\\frac{x^2-4\\,x-3}{\\left(x^2+3\\right)^2}$$"
      ],
      "text/plain": [
       "                                   2\n",
       "                                  x  - 4 x - 3\n",
       "(%o12)                          - ------------\n",
       "                                     2     2\n",
       "                                   (x  + 3)"
      ],
      "text/x-maxima": [
       "-(x^2-4*x-3)/(x^2+3)^2"
      ]
     },
     "execution_count": 14,
     "metadata": {},
     "output_type": "execute_result"
    }
   ],
   "source": [
    "factor(%);"
   ]
  },
  {
   "cell_type": "code",
   "execution_count": 14,
   "metadata": {},
   "outputs": [
    {
     "data": {
      "text/latex": [
       "$$\\tag{${\\it \\%o_{13}}$}y=-x^3-x^2-x+1$$"
      ],
      "text/plain": [
       "                                    3     2\n",
       "(%o13)                      y = (- x ) - x  - x + 1"
      ],
      "text/x-maxima": [
       "y = (-x^3)-x^2-x+1"
      ]
     },
     "execution_count": 15,
     "metadata": {},
     "output_type": "execute_result"
    }
   ],
   "source": [
    "y=1-x-x^2-x^3;"
   ]
  },
  {
   "cell_type": "code",
   "execution_count": 16,
   "metadata": {},
   "outputs": [
    {
     "data": {
      "text/latex": [
       "$$\\tag{${\\it \\%o_{15}}$}-3\\,x^2-2\\,x-1$$"
      ],
      "text/plain": [
       "                                    2\n",
       "(%o15)                        (- 3 x ) - 2 x - 1"
      ],
      "text/x-maxima": [
       "(-3*x^2)-2*x-1"
      ]
     },
     "execution_count": 17,
     "metadata": {},
     "output_type": "execute_result"
    }
   ],
   "source": [
    "diff(1-x-x^2-x^3,x,1);"
   ]
  },
  {
   "cell_type": "code",
   "execution_count": 18,
   "metadata": {},
   "outputs": [
    {
     "data": {
      "text/latex": [
       "$$\\tag{${\\it \\%o_{17}}$}\\frac{1}{2\\,\\sqrt{x}}$$"
      ],
      "text/plain": [
       "                                       1\n",
       "(%o17)                             ---------\n",
       "                                   2 sqrt(x)"
      ],
      "text/x-maxima": [
       "1/(2*sqrt(x))"
      ]
     },
     "execution_count": 19,
     "metadata": {},
     "output_type": "execute_result"
    }
   ],
   "source": [
    "f:diff(sqrt(x), x,1);"
   ]
  },
  {
   "cell_type": "code",
   "execution_count": 19,
   "metadata": {},
   "outputs": [
    {
     "data": {
      "text/latex": [
       "$$\\tag{${\\it \\%o_{18}}$}\\frac{1}{2^{\\frac{3}{2}}}$$"
      ],
      "text/plain": [
       "                                      1\n",
       "(%o18)                               ----\n",
       "                                      3/2\n",
       "                                     2"
      ],
      "text/x-maxima": [
       "1/2^(3/2)"
      ]
     },
     "execution_count": 20,
     "metadata": {},
     "output_type": "execute_result"
    }
   ],
   "source": [
    "subst(x=2,f);"
   ]
  },
  {
   "cell_type": "markdown",
   "metadata": {},
   "source": [
    "함수의 미분"
   ]
  },
  {
   "cell_type": "code",
   "execution_count": 1,
   "metadata": {},
   "outputs": [
    {
     "data": {
      "text/latex": [
       "$$\\tag{${\\it \\%o_1}$}y=\\frac{x}{\\sqrt{x+1}}$$"
      ],
      "text/plain": [
       "                                         x\n",
       "(%o1)                           y = -----------\n",
       "                                    sqrt(x + 1)"
      ],
      "text/x-maxima": [
       "y = x/sqrt(x+1)"
      ]
     },
     "execution_count": 2,
     "metadata": {},
     "output_type": "execute_result"
    }
   ],
   "source": [
    "y = x/(sqrt(x+1));"
   ]
  },
  {
   "cell_type": "code",
   "execution_count": 4,
   "metadata": {},
   "outputs": [
    {
     "data": {
      "text/latex": [
       "$$\\tag{${\\it \\%o_4}$}\\frac{1}{\\sqrt{x+1}}-\\frac{x}{2\\,\\left(x+1\\right)^{\\frac{3}{2}}}$$"
      ],
      "text/plain": [
       "                               1             x\n",
       "(%o4)                     ----------- - ------------\n",
       "                          sqrt(x + 1)            3/2\n",
       "                                        2 (x + 1)"
      ],
      "text/x-maxima": [
       "1/sqrt(x+1)-x/(2*(x+1)^(3/2))"
      ]
     },
     "execution_count": 5,
     "metadata": {},
     "output_type": "execute_result"
    }
   ],
   "source": [
    "diff(x/sqrt(x+1), x, 1);"
   ]
  },
  {
   "cell_type": "code",
   "execution_count": 5,
   "metadata": {},
   "outputs": [
    {
     "data": {
      "text/latex": [
       "$$\\tag{${\\it \\%o_5}$}\\frac{x+2}{2\\,\\left(x+1\\right)^{\\frac{3}{2}}}$$"
      ],
      "text/plain": [
       "                                    x + 2\n",
       "(%o5)                            ------------\n",
       "                                          3/2\n",
       "                                 2 (x + 1)"
      ],
      "text/x-maxima": [
       "(x+2)/(2*(x+1)^(3/2))"
      ]
     },
     "execution_count": 6,
     "metadata": {},
     "output_type": "execute_result"
    }
   ],
   "source": [
    "factor(%);"
   ]
  },
  {
   "cell_type": "code",
   "execution_count": 6,
   "metadata": {},
   "outputs": [
    {
     "data": {
      "text/latex": [
       "$$\\tag{${\\it \\%o_6}$}e^{x}$$"
      ],
      "text/plain": [
       "                                        x\n",
       "(%o6)                                 %e"
      ],
      "text/x-maxima": [
       "%e^x"
      ]
     },
     "execution_count": 7,
     "metadata": {},
     "output_type": "execute_result"
    }
   ],
   "source": [
    "f:diff(%e^x,x,1);"
   ]
  },
  {
   "cell_type": "code",
   "execution_count": 7,
   "metadata": {},
   "outputs": [
    {
     "data": {
      "text/latex": [
       "$$\\tag{${\\it \\%o_7}$}1$$"
      ],
      "text/plain": [
       "(%o7)                                  1"
      ],
      "text/x-maxima": [
       "1"
      ]
     },
     "execution_count": 8,
     "metadata": {},
     "output_type": "execute_result"
    }
   ],
   "source": [
    "subst(x=0,f);"
   ]
  },
  {
   "cell_type": "code",
   "execution_count": 8,
   "metadata": {},
   "outputs": [
    {
     "data": {
      "text/latex": [
       "$$\\tag{${\\it \\%o_8}$}\\left[ x=\\log \\left(-\\frac{1}{y-1}\\right) \\right] $$"
      ],
      "text/plain": [
       "                                           1\n",
       "(%o8)                         [x = log(- -----)]\n",
       "                                         y - 1"
      ],
      "text/x-maxima": [
       "[x = log(-1/(y-1))]"
      ]
     },
     "execution_count": 9,
     "metadata": {},
     "output_type": "execute_result"
    }
   ],
   "source": [
    "solve(y=1-%e^(-x),x);"
   ]
  },
  {
   "cell_type": "code",
   "execution_count": 9,
   "metadata": {},
   "outputs": [
    {
     "data": {
      "text/latex": [
       "$$\\tag{${\\it \\%o_9}$}\\left[ 0=\\frac{1-y}{\\left(y-1\\right)^2} \\right] $$"
      ],
      "text/plain": [
       "                                      1 - y\n",
       "(%o9)                           [0 = --------]\n",
       "                                            2\n",
       "                                     (y - 1)"
      ],
      "text/x-maxima": [
       "[0 = (1-y)/(y-1)^2]"
      ]
     },
     "execution_count": 10,
     "metadata": {},
     "output_type": "execute_result"
    }
   ],
   "source": [
    "diff(%,y,1);"
   ]
  },
  {
   "cell_type": "code",
   "execution_count": 10,
   "metadata": {},
   "outputs": [
    {
     "data": {
      "text/latex": [
       "$$\\tag{${\\it \\%o_{10}}$}\\left[ 0=-\\frac{1}{y-1} \\right] $$"
      ],
      "text/plain": [
       "                                          1\n",
       "(%o10)                           [0 = - -----]\n",
       "                                        y - 1"
      ],
      "text/x-maxima": [
       "[0 = -1/(y-1)]"
      ]
     },
     "execution_count": 11,
     "metadata": {},
     "output_type": "execute_result"
    }
   ],
   "source": [
    "factor(%);"
   ]
  },
  {
   "cell_type": "code",
   "execution_count": 11,
   "metadata": {},
   "outputs": [
    {
     "data": {
      "text/latex": [
       "$$\\tag{${\\it \\%o_{11}}$}x^{x}\\,\\left(\\log x+1\\right)$$"
      ],
      "text/plain": [
       "                                 x\n",
       "(%o11)                          x  (log(x) + 1)"
      ],
      "text/x-maxima": [
       "x^x*(log(x)+1)"
      ]
     },
     "execution_count": 12,
     "metadata": {},
     "output_type": "execute_result"
    }
   ],
   "source": [
    "diff(x^x,x,1);"
   ]
  },
  {
   "cell_type": "code",
   "execution_count": 13,
   "metadata": {},
   "outputs": [
    {
     "data": {
      "text/latex": [
       "$$\\tag{${\\it \\%o_{13}}$}\\left[ \\mbox{ /var/folders/l0/l803j7655w5chjcrf6\\_c42lh0000gn/T/maxout6389.gnuplot\\_pipes } \\right] $$"
      ],
      "text/plain": [
       "(%o13) \n",
       "    [/var/folders/l0/l803j7655w5chjcrf6_c42lh0000gn/T/maxout6389.gnuplot_pipes]"
      ],
      "text/x-maxima": [
       "[\"/var/folders/l0/l803j7655w5chjcrf6_c42lh0000gn/T/maxout6389.gnuplot_pipes\"]"
      ]
     },
     "execution_count": 14,
     "metadata": {},
     "output_type": "execute_result"
    }
   ],
   "source": [
    "plot2d([2*x-x^2],[x,-1,3]);"
   ]
  },
  {
   "cell_type": "markdown",
   "metadata": {},
   "source": [
    "미분의 응용"
   ]
  },
  {
   "cell_type": "code",
   "execution_count": 1,
   "metadata": {},
   "outputs": [
    {
     "data": {
      "text/latex": [
       "$$\\tag{${\\it \\%o_1}$}f\\left(x\\right):=x^4-2\\,x^2-2$$"
      ],
      "text/plain": [
       "                                      4      2\n",
       "(%o1)                        f(x) := x  - 2 x  - 2"
      ],
      "text/x-maxima": [
       "f(x):=x^4-2*x^2-2"
      ]
     },
     "execution_count": 2,
     "metadata": {},
     "output_type": "execute_result"
    }
   ],
   "source": [
    "f(x):=x^4-2*x^2-2;"
   ]
  },
  {
   "cell_type": "code",
   "execution_count": 2,
   "metadata": {},
   "outputs": [
    {
     "data": {
      "text/latex": [
       "$$\\tag{${\\it \\%o_2}$}4\\,x^3-4\\,x$$"
      ],
      "text/plain": [
       "                                     3\n",
       "(%o2)                             4 x  - 4 x"
      ],
      "text/x-maxima": [
       "4*x^3-4*x"
      ]
     },
     "execution_count": 3,
     "metadata": {},
     "output_type": "execute_result"
    }
   ],
   "source": [
    "fx:diff(f(x),x,1);"
   ]
  },
  {
   "cell_type": "code",
   "execution_count": 4,
   "metadata": {},
   "outputs": [
    {
     "data": {
      "text/latex": [
       "$$\\tag{${\\it \\%o_3}$}\\left[ x=-1 , x=1 , x=0 \\right] $$"
      ],
      "text/plain": [
       "(%o3)                       [x = - 1, x = 1, x = 0]"
      ],
      "text/x-maxima": [
       "[x = -1,x = 1,x = 0]"
      ]
     },
     "execution_count": 5,
     "metadata": {},
     "output_type": "execute_result"
    }
   ],
   "source": [
    "crit:solve(fx=0,x);"
   ]
  },
  {
   "cell_type": "code",
   "execution_count": 5,
   "metadata": {},
   "outputs": [
    {
     "data": {
      "text/latex": [
       "$$\\tag{${\\it \\%o_4}$}12\\,x^2-4$$"
      ],
      "text/plain": [
       "                                       2\n",
       "(%o4)                              12 x  - 4"
      ],
      "text/x-maxima": [
       "12*x^2-4"
      ]
     },
     "execution_count": 6,
     "metadata": {},
     "output_type": "execute_result"
    }
   ],
   "source": [
    "fxx:diff(f(x),x,2);"
   ]
  },
  {
   "cell_type": "code",
   "execution_count": 7,
   "metadata": {},
   "outputs": [
    {
     "data": {
      "text/latex": [
       "$$\\tag{${\\it \\%o_6}$}\\left[ x=-\\frac{1}{\\sqrt{3}} , x=\\frac{1}{\\sqrt{3}} \\right] $$"
      ],
      "text/plain": [
       "                                   1            1\n",
       "(%o6)                    [x = - -------, x = -------]\n",
       "                                sqrt(3)      sqrt(3)"
      ],
      "text/x-maxima": [
       "[x = -1/sqrt(3),x = 1/sqrt(3)]"
      ]
     },
     "execution_count": 8,
     "metadata": {},
     "output_type": "execute_result"
    }
   ],
   "source": [
    "crit2:solve(fxx=0,x);"
   ]
  },
  {
   "cell_type": "code",
   "execution_count": 9,
   "metadata": {},
   "outputs": [
    {
     "data": {
      "text/latex": [
       "$$\\tag{${\\it \\%o_8}$}\\left[ \\mbox{ /var/folders/l0/l803j7655w5chjcrf6\\_c42lh0000gn/T/maxout541.gnuplot\\_pipes } \\right] $$"
      ],
      "text/plain": [
       "(%o8) \n",
       "     [/var/folders/l0/l803j7655w5chjcrf6_c42lh0000gn/T/maxout541.gnuplot_pipes]"
      ],
      "text/x-maxima": [
       "[\"/var/folders/l0/l803j7655w5chjcrf6_c42lh0000gn/T/maxout541.gnuplot_pipes\"]"
      ]
     },
     "execution_count": 10,
     "metadata": {},
     "output_type": "execute_result"
    },
    {
     "name": "stdout",
     "output_type": "stream",
     "text": [
      "plot2d: some values were clipped.\n"
     ]
    }
   ],
   "source": [
    "plot2d([f(x)],[x,-2,2],[y,-5,5]);"
   ]
  },
  {
   "cell_type": "code",
   "execution_count": 10,
   "metadata": {},
   "outputs": [
    {
     "data": {
      "text/latex": [
       "$$\\tag{${\\it \\%o_9}$}g\\left(x\\right):=\\tan x-x$$"
      ],
      "text/plain": [
       "(%o9)                         g(x) := tan(x) - x"
      ],
      "text/x-maxima": [
       "g(x):=tan(x)-x"
      ]
     },
     "execution_count": 11,
     "metadata": {},
     "output_type": "execute_result"
    }
   ],
   "source": [
    "g(x):=tan(x)-x;"
   ]
  },
  {
   "cell_type": "code",
   "execution_count": 11,
   "metadata": {},
   "outputs": [
    {
     "data": {
      "text/latex": [
       "$$\\tag{${\\it \\%o_{10}}$}h\\left(x\\right):=\\frac{x}{\\sqrt{1-x^2}}-\\tan x$$"
      ],
      "text/plain": [
       "                                      x\n",
       "(%o10)                   h(x) := ------------ - tan(x)\n",
       "                                           2\n",
       "                                 sqrt(1 - x )"
      ],
      "text/x-maxima": [
       "h(x):=x/sqrt(1-x^2)-tan(x)"
      ]
     },
     "execution_count": 12,
     "metadata": {},
     "output_type": "execute_result"
    }
   ],
   "source": [
    "h(x):=x/(sqrt(1-x^2))-tan(x);"
   ]
  },
  {
   "cell_type": "code",
   "execution_count": 13,
   "metadata": {},
   "outputs": [
    {
     "data": {
      "text/latex": [
       "$$\\tag{${\\it \\%o_{13}}$}\\left(\\sec x\\right)^2-1$$"
      ],
      "text/plain": [
       "                                     2\n",
       "(%o13)                            sec (x) - 1"
      ],
      "text/x-maxima": [
       "sec(x)^2-1"
      ]
     },
     "execution_count": 14,
     "metadata": {},
     "output_type": "execute_result"
    },
    {
     "data": {
      "text/latex": [
       "$$\\tag{${\\it \\%o_{14}}$}-\\left(\\sec x\\right)^2+\\frac{1}{\\sqrt{1-x^2}}+\\frac{x^2}{\\left(1-x^2\\right)^{\\frac{3}{2}}}$$"
      ],
      "text/plain": [
       "                                                     2\n",
       "                         2            1             x\n",
       "(%o14)             (- sec (x)) + ------------ + -----------\n",
       "                                           2          2 3/2\n",
       "                                 sqrt(1 - x )   (1 - x )"
      ],
      "text/x-maxima": [
       "(-sec(x)^2)+1/sqrt(1-x^2)+x^2/(1-x^2)^(3/2)"
      ]
     },
     "execution_count": 14,
     "metadata": {},
     "output_type": "execute_result"
    }
   ],
   "source": [
    "gx:diff(g(x),x);hx:diff(h(x),x);"
   ]
  },
  {
   "cell_type": "code",
   "execution_count": 15,
   "metadata": {},
   "outputs": [
    {
     "data": {
      "text/latex": [
       "$$\\tag{${\\it \\%o_{16}}$}\\left[ \\mbox{ /var/folders/l0/l803j7655w5chjcrf6\\_c42lh0000gn/T/maxout541.gnuplot\\_pipes } \\right] $$"
      ],
      "text/plain": [
       "(%o16) \n",
       "     [/var/folders/l0/l803j7655w5chjcrf6_c42lh0000gn/T/maxout541.gnuplot_pipes]"
      ],
      "text/x-maxima": [
       "[\"/var/folders/l0/l803j7655w5chjcrf6_c42lh0000gn/T/maxout541.gnuplot_pipes\"]"
      ]
     },
     "execution_count": 16,
     "metadata": {},
     "output_type": "execute_result"
    },
    {
     "name": "stdout",
     "output_type": "stream",
     "text": [
      "plot2d: some values were clipped.\n"
     ]
    }
   ],
   "source": [
    "plot2d(gx,[x,0,1],[y,-0.5,1]);"
   ]
  },
  {
   "cell_type": "code",
   "execution_count": 16,
   "metadata": {},
   "outputs": [
    {
     "data": {
      "text/latex": [
       "$$\\tag{${\\it \\%o_{17}}$}\\left[ \\mbox{ /var/folders/l0/l803j7655w5chjcrf6\\_c42lh0000gn/T/maxout541.gnuplot\\_pipes } \\right] $$"
      ],
      "text/plain": [
       "(%o17) \n",
       "     [/var/folders/l0/l803j7655w5chjcrf6_c42lh0000gn/T/maxout541.gnuplot_pipes]"
      ],
      "text/x-maxima": [
       "[\"/var/folders/l0/l803j7655w5chjcrf6_c42lh0000gn/T/maxout541.gnuplot_pipes\"]"
      ]
     },
     "execution_count": 17,
     "metadata": {},
     "output_type": "execute_result"
    },
    {
     "name": "stdout",
     "output_type": "stream",
     "text": [
      "plot2d: expression evaluates to non-numeric value somewhere in plotting range.\n",
      "plot2d: some values were clipped.\n"
     ]
    }
   ],
   "source": [
    "plot2d(hx,[x,0,1],[y,-0.5,1]);"
   ]
  },
  {
   "cell_type": "code",
   "execution_count": 17,
   "metadata": {},
   "outputs": [
    {
     "data": {
      "text/latex": [
       "$$\\tag{${\\it \\%o_{18}}$}j\\left(x\\right):=e^{x}-1-x+\\frac{-x^2}{2}$$"
      ],
      "text/plain": [
       "                                                   2\n",
       "                                    x           - x\n",
       "(%o18)                    j(x) := %e  - 1 - x + ----\n",
       "                                                 2"
      ],
      "text/x-maxima": [
       "j(x):=%e^x-1-x+(-x^2)/2"
      ]
     },
     "execution_count": 18,
     "metadata": {},
     "output_type": "execute_result"
    }
   ],
   "source": [
    "j(x):=%e^x-1-x-x^2/2;"
   ]
  },
  {
   "cell_type": "code",
   "execution_count": 18,
   "metadata": {},
   "outputs": [
    {
     "data": {
      "text/latex": [
       "$$\\tag{${\\it \\%o_{19}}$}e^{x}-x-1$$"
      ],
      "text/plain": [
       "                                    x\n",
       "(%o19)                            %e  - x - 1"
      ],
      "text/x-maxima": [
       "%e^x-x-1"
      ]
     },
     "execution_count": 19,
     "metadata": {},
     "output_type": "execute_result"
    }
   ],
   "source": [
    "jx:diff(j(x),x);"
   ]
  },
  {
   "cell_type": "code",
   "execution_count": 19,
   "metadata": {},
   "outputs": [
    {
     "data": {
      "text/latex": [
       "$$\\tag{${\\it \\%o_{20}}$}e^{x}-1$$"
      ],
      "text/plain": [
       "                                      x\n",
       "(%o20)                              %e  - 1"
      ],
      "text/x-maxima": [
       "%e^x-1"
      ]
     },
     "execution_count": 20,
     "metadata": {},
     "output_type": "execute_result"
    }
   ],
   "source": [
    "jxx:diff(j(x),x,2);"
   ]
  },
  {
   "cell_type": "code",
   "execution_count": 23,
   "metadata": {},
   "outputs": [
    {
     "data": {
      "text/latex": [
       "$$\\tag{${\\it \\%o_{24}}$}\\left[ \\mbox{ /var/folders/l0/l803j7655w5chjcrf6\\_c42lh0000gn/T/maxout541.gnuplot\\_pipes } \\right] $$"
      ],
      "text/plain": [
       "(%o24) \n",
       "     [/var/folders/l0/l803j7655w5chjcrf6_c42lh0000gn/T/maxout541.gnuplot_pipes]"
      ],
      "text/x-maxima": [
       "[\"/var/folders/l0/l803j7655w5chjcrf6_c42lh0000gn/T/maxout541.gnuplot_pipes\"]"
      ]
     },
     "execution_count": 24,
     "metadata": {},
     "output_type": "execute_result"
    }
   ],
   "source": [
    "plot2d(jx,[x,0,5]);"
   ]
  },
  {
   "cell_type": "code",
   "execution_count": 24,
   "metadata": {},
   "outputs": [
    {
     "data": {
      "text/latex": [
       "$$\\tag{${\\it \\%o_{25}}$}\\left[ \\mbox{ /var/folders/l0/l803j7655w5chjcrf6\\_c42lh0000gn/T/maxout541.gnuplot\\_pipes } \\right] $$"
      ],
      "text/plain": [
       "(%o25) \n",
       "     [/var/folders/l0/l803j7655w5chjcrf6_c42lh0000gn/T/maxout541.gnuplot_pipes]"
      ],
      "text/x-maxima": [
       "[\"/var/folders/l0/l803j7655w5chjcrf6_c42lh0000gn/T/maxout541.gnuplot_pipes\"]"
      ]
     },
     "execution_count": 25,
     "metadata": {},
     "output_type": "execute_result"
    },
    {
     "name": "stdout",
     "output_type": "stream",
     "text": [
      "plot2d: some values were clipped.\n"
     ]
    }
   ],
   "source": [
    "plot2d(jxx,[x,0,5],[y,-0.5,5]);"
   ]
  },
  {
   "cell_type": "code",
   "execution_count": null,
   "metadata": {},
   "outputs": [],
   "source": []
  }
 ],
 "metadata": {
  "kernelspec": {
   "display_name": "Maxima",
   "language": "maxima",
   "name": "maxima"
  },
  "language_info": {
   "codemirror_mode": "maxima",
   "file_extension": ".mac",
   "mimetype": "text/x-maxima",
   "name": "maxima",
   "pygments_lexer": "maxima",
   "version": "branch_5_36_base_1372_gb11405d"
  }
 },
 "nbformat": 4,
 "nbformat_minor": 2
}
