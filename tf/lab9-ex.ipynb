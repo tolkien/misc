{
 "cells": [
  {
   "cell_type": "markdown",
   "metadata": {},
   "source": [
    "Deep and Wide NN for MNIST<br>\n",
    "add TensorBoard"
   ]
  },
  {
   "cell_type": "code",
   "execution_count": 1,
   "metadata": {},
   "outputs": [
    {
     "name": "stdout",
     "output_type": "stream",
     "text": [
      "Extracting MNIST_data/train-images-idx3-ubyte.gz\n",
      "Extracting MNIST_data/train-labels-idx1-ubyte.gz\n",
      "Extracting MNIST_data/t10k-images-idx3-ubyte.gz\n",
      "Extracting MNIST_data/t10k-labels-idx1-ubyte.gz\n",
      "X: (?, 784) x1: (?, 28) 28 W1: (28, 32) 28 b1: (32,) 28 y1: (?, 32) 28\n",
      "y1: (?, 32) 28 W2: (32, 10) 28 b2: (10,) 28 y2: (?, 10)\n"
     ]
    }
   ],
   "source": [
    "# Deep NN for MNIST\n",
    "import tensorflow as tf\n",
    "import numpy as np\n",
    "import random\n",
    "import matplotlib.pyplot as plt\n",
    "tf.set_random_seed(777)  # for reproducibility\n",
    "\n",
    "from tensorflow.examples.tutorials.mnist import input_data\n",
    "# Check out https://www.tensorflow.org/get_started/mnist/beginners for\n",
    "# more information about the mnist dataset\n",
    "mnist = input_data.read_data_sets(\"MNIST_data/\", one_hot=True)\n",
    "\n",
    "nb_classes = 10\n",
    "\n",
    "# MNIST data image of shape 28 * 28 = 784\n",
    "X = tf.placeholder(tf.float32, [None, 784])\n",
    "# 0 - 9 digits recognition = 10 classes\n",
    "Y = tf.placeholder(tf.float32, [None, nb_classes])\n",
    "#print(X, Y)\n",
    "\n",
    "W1 = []\n",
    "b1 = []\n",
    "x1 = []\n",
    "y1 = []\n",
    "with tf.name_scope(\"layer1\") as scope:\n",
    "    for i in range(28):\n",
    "        j = (i)*28\n",
    "        k = (i+1)*28\n",
    "        x1.append(X[:,j:k])\n",
    "        #print(\"[%2d] %d:%d %d\" % (i, j, k, k - j))\n",
    "        W1.append( tf.Variable(tf.random_normal([28, 32]), name='weightA%d' % (i)) )\n",
    "        b1.append( tf.Variable(tf.random_normal([32]), name='biasA%d' % (i)) )\n",
    "        y1.append( tf.nn.softmax(tf.matmul(x1[i], W1[i]) + b1[i]) )\n",
    "        #print(\"[%2d]\" % i, x1[i].get_shape().dims[-1],\n",
    "        #      \"X:\", x1[i].shape, \"W:\", W1[i].shape, \"b:\", b1[i].shape, \"y:\", y1[i].shape)\n",
    "\n",
    "    print(\"X:\", X.shape, \"x1:\", x1[0].shape, len(x1), \"W1:\", W1[0].shape, len(W1),\n",
    "          \"b1:\", b1[0].shape, len(b1), \"y1:\", y1[0].shape, len(y1))\n",
    "\n",
    "W2 = []\n",
    "b2 = tf.Variable(tf.random_normal([nb_classes]))\n",
    "y2 = b2\n",
    "with tf.name_scope(\"layer2\") as scope:\n",
    "    for i in range(28):\n",
    "        W2.append( tf.Variable(tf.random_normal([32, nb_classes]), name='weightB%d' % (i)) )\n",
    "        y2 += tf.matmul(y1[i], W2[i])\n",
    "\n",
    "    print(\"y1:\", y1[0].shape, len(y1), \"W2:\", W2[0].shape, len(W2),\n",
    "          \"b2:\", b2.shape, len(b1), \"y2:\", y2.shape)\n",
    "    \n",
    "    # Hypothesis (using softmax)\n",
    "    hypothesis = tf.nn.softmax(y2)"
   ]
  },
  {
   "cell_type": "code",
   "execution_count": 2,
   "metadata": {
    "scrolled": false
   },
   "outputs": [
    {
     "name": "stdout",
     "output_type": "stream",
     "text": [
      "Epoch: 0001 cost = 1.575967283\n",
      "Epoch: 0002 cost = 0.792339602\n",
      "Epoch: 0003 cost = 0.623606738\n",
      "Epoch: 0004 cost = 0.541820670\n",
      "Epoch: 0005 cost = 0.490922052\n",
      "Epoch: 0006 cost = 0.454898355\n",
      "Epoch: 0007 cost = 0.427485177\n",
      "Epoch: 0008 cost = 0.405671991\n",
      "Epoch: 0009 cost = 0.387629467\n",
      "Epoch: 0010 cost = 0.372476700\n",
      "Epoch: 0011 cost = 0.359398451\n",
      "Epoch: 0012 cost = 0.347994428\n",
      "Epoch: 0013 cost = 0.337908170\n",
      "Epoch: 0014 cost = 0.328889467\n",
      "Epoch: 0015 cost = 0.320604654\n",
      "Learning finished\n",
      "Accuracy:  0.9056\n",
      "Label:  [9]\n",
      "Prediction:  [9]\n"
     ]
    },
    {
     "data": {
      "image/png": "[encoded data removed]",
      "text/plain": [
       "<matplotlib.figure.Figure at 0x127262be0>"
      ]
     },
     "metadata": {},
     "output_type": "display_data"
    }
   ],
   "source": [
    "with tf.name_scope(\"cost\") as scope:\n",
    "    cost = tf.reduce_mean(-tf.reduce_sum(Y * tf.log(hypothesis), axis=1))\n",
    "\n",
    "with tf.name_scope(\"train\") as scope:\n",
    "    optimizer = tf.train.GradientDescentOptimizer(learning_rate=0.1).minimize(cost)\n",
    "\n",
    "# Test model\n",
    "is_correct = tf.equal(tf.argmax(hypothesis, 1), tf.argmax(Y, 1))\n",
    "# Calculate accuracy\n",
    "accuracy = tf.reduce_mean(tf.cast(is_correct, tf.float32))\n",
    "\n",
    "# parameters\n",
    "training_epochs = 15\n",
    "batch_size = 100\n",
    "\n",
    "with tf.Session() as sess:\n",
    "    # Initialize TensorFlow variables\n",
    "    sess.run(tf.global_variables_initializer())\n",
    "\n",
    "    # Training cycle\n",
    "    for epoch in range(training_epochs):\n",
    "        avg_cost = 0\n",
    "        total_batch = int(mnist.train.num_examples / batch_size)\n",
    "\n",
    "        for i in range(total_batch):\n",
    "            batch_xs, batch_ys = mnist.train.next_batch(batch_size)\n",
    "            c, _ = sess.run([cost, optimizer],\n",
    "                            feed_dict={X: batch_xs, Y: batch_ys})\n",
    "            avg_cost += c / total_batch\n",
    "\n",
    "        print('Epoch:', '%04d' % (epoch + 1),\n",
    "              'cost =', '{:.9f}'.format(avg_cost))\n",
    "\n",
    "    print(\"Learning finished\")\n",
    "\n",
    "    # Test the model using test sets\n",
    "    print(\"Accuracy: \", accuracy.eval(session=sess, feed_dict={\n",
    "          X: mnist.test.images, Y: mnist.test.labels}))\n",
    "\n",
    "    # Get one and predict\n",
    "    r = random.randint(0, mnist.test.num_examples - 1)\n",
    "    print(\"Label: \", sess.run(tf.argmax(mnist.test.labels[r:r + 1], 1)))\n",
    "    print(\"Prediction: \", sess.run(\n",
    "        tf.argmax(hypothesis, 1), feed_dict={X: mnist.test.images[r:r + 1]}))\n",
    "\n",
    "    plt.imshow(\n",
    "        mnist.test.images[r:r + 1].reshape(28, 28),\n",
    "        cmap='Greys',\n",
    "        interpolation='nearest')\n",
    "    plt.show()"
   ]
  }
 ],
 "metadata": {
  "kernelspec": {
   "display_name": "Python 3",
   "language": "python",
   "name": "python3"
  },
  "language_info": {
   "codemirror_mode": {
    "name": "ipython",
    "version": 3
   },
   "file_extension": ".py",
   "mimetype": "text/x-python",
   "name": "python",
   "nbconvert_exporter": "python",
   "pygments_lexer": "ipython3",
   "version": "3.6.2"
  }
 },
 "nbformat": 4,
 "nbformat_minor": 2
}
