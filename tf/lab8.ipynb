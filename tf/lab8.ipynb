{
 "cells": [
  {
   "cell_type": "markdown",
   "metadata": {},
   "source": [
    "### Tensor manipulation"
   ]
  },
  {
   "cell_type": "markdown",
   "metadata": {},
   "source": [
    "Slicing"
   ]
  },
  {
   "cell_type": "code",
   "execution_count": 1,
   "metadata": {},
   "outputs": [
    {
     "name": "stdout",
     "output_type": "stream",
     "text": [
      "[0. 1. 2. 3. 4. 5. 6.]\n",
      "1 (7,)\n",
      "6.0 [4. 5.] [0. 1.] [4. 5. 6.]\n"
     ]
    }
   ],
   "source": [
    "import tensorflow as tf\n",
    "import numpy as np\n",
    "\n",
    "t = np.array([0., 1., 2., 3., 4., 5., 6.,])\n",
    "print(t)\n",
    "\n",
    "print(t.ndim, t.shape)\n",
    "print(t[-1], t[4:-1], t[:2], t[4:])"
   ]
  },
  {
   "cell_type": "code",
   "execution_count": 2,
   "metadata": {},
   "outputs": [
    {
     "name": "stdout",
     "output_type": "stream",
     "text": [
      "[[ 0.  1.  2.]\n",
      " [ 3.  4.  5.]\n",
      " [ 6.  7.  8.]\n",
      " [ 9. 10. 11.]]\n",
      "2 (4, 3)\n",
      "[ 9. 10. 11.]\n",
      "[[6. 7. 8.]]\n",
      "[[0. 1. 2.]\n",
      " [3. 4. 5.]]\n",
      "[[ 6.  7.  8.]\n",
      " [ 9. 10. 11.]]\n",
      "11.0\n",
      "[[3.]\n",
      " [6.]]\n",
      "[[ 6.  7.]\n",
      " [ 9. 10.]]\n"
     ]
    }
   ],
   "source": [
    "t2 = np.array([[0., 1., 2.], [3., 4., 5.], [6., 7., 8.], [9., 10., 11.]])\n",
    "\n",
    "print(t2)\n",
    "print(t2.ndim, t2.shape)\n",
    "print(t2[-1])\n",
    "print(t2[2:-1])\n",
    "print(t2[:2])\n",
    "print(t2[2:])\n",
    "print(t2[-1, -1])\n",
    "print(t2[1:-1, 0:1])\n",
    "print(t2[2:,:2])"
   ]
  },
  {
   "cell_type": "markdown",
   "metadata": {},
   "source": [
    "Shape, Rank, Axis"
   ]
  },
  {
   "cell_type": "code",
   "execution_count": 3,
   "metadata": {},
   "outputs": [
    {
     "name": "stdout",
     "output_type": "stream",
     "text": [
      "[1 2 3 4] (4,) Tensor(\"Const:0\", shape=(4,), dtype=int32)\n",
      "[[1 2]\n",
      " [3 4]] (2, 2) Tensor(\"Const_1:0\", shape=(2, 2), dtype=int32)\n"
     ]
    }
   ],
   "source": [
    "sess = tf.Session()\n",
    "\n",
    "t3 = tf.constant([1, 2, 3, 4])\n",
    "_t3 = t3.eval(session=sess)\n",
    "print(_t3, _t3.shape, t3)\n",
    "\n",
    "t4 = tf.constant([[1,2],[3,4]])\n",
    "_t4 = sess.run(t4)\n",
    "print(_t4, _t4.shape, t4)"
   ]
  },
  {
   "cell_type": "markdown",
   "metadata": {},
   "source": [
    "Matmul vs multiply"
   ]
  },
  {
   "cell_type": "code",
   "execution_count": 4,
   "metadata": {},
   "outputs": [
    {
     "name": "stdout",
     "output_type": "stream",
     "text": [
      "[[1. 2.]\n",
      " [3. 4.]] matrix 1 shape:  (2, 2)\n",
      "[[1.]\n",
      " [2.]] matrix 2 shape:  (2, 1)\n",
      "[[ 5.]\n",
      " [11.]]\n",
      "[[1. 2.]\n",
      " [6. 8.]]\n"
     ]
    }
   ],
   "source": [
    "m1 = tf.constant([[1., 2.], [3., 4.]])\n",
    "m2 = tf.constant([[1.], [2.]])\n",
    "\n",
    "_m1, _m2 = sess.run([m1, m2])\n",
    "print(_m1, \"matrix 1 shape: \", _m1.shape)\n",
    "print(_m2, \"matrix 2 shape: \", _m2.shape)\n",
    "mm = tf.matmul(m1, m2)\n",
    "mm2 = m1 * m2\n",
    "_mm, _mm2 = sess.run([mm, mm2])\n",
    "print(_mm)\n",
    "print(_mm2)"
   ]
  },
  {
   "cell_type": "markdown",
   "metadata": {},
   "source": [
    "Broadcasting"
   ]
  },
  {
   "cell_type": "code",
   "execution_count": 5,
   "metadata": {},
   "outputs": [
    {
     "name": "stdout",
     "output_type": "stream",
     "text": [
      "[[5. 3.]]\n",
      "[[6. 4.]]\n",
      "[[6. 4.]\n",
      " [7. 5.]]\n"
     ]
    }
   ],
   "source": [
    "# Operations between same shapes\n",
    "m3 = tf.constant([[3., 1.]])\n",
    "m4 = tf.constant([[2., 2.]])\n",
    "mm3 = m3 + m4\n",
    "_mm3 = sess.run(mm3)\n",
    "print(_mm3)\n",
    "\n",
    "# Operations between different shapes\n",
    "m5 = tf.constant(3.)\n",
    "mm5 = m3 + m5\n",
    "_mm5 = sess.run(mm5)\n",
    "print(_mm5)\n",
    "\n",
    "m6 = tf.constant([[3.], [4.]])\n",
    "mm6 = m3 + m6\n",
    "_mm6 = sess.run(mm6)\n",
    "print(_mm6)"
   ]
  },
  {
   "cell_type": "markdown",
   "metadata": {},
   "source": [
    "Reduce mean"
   ]
  },
  {
   "cell_type": "code",
   "execution_count": 6,
   "metadata": {},
   "outputs": [
    {
     "name": "stdout",
     "output_type": "stream",
     "text": [
      "1\n",
      "_r2[0][1] =  2.0\n",
      "2.5\n",
      "[2. 3.]\n",
      "[1.5 3.5]\n",
      "[1.5 3.5]\n",
      "-- 2x2x2 ------\n",
      "(2, 2, 2)\n",
      "---------------\n",
      "[[1. 2.]\n",
      " [3. 4.]]\n",
      "[[5. 6.]\n",
      " [7. 8.]]\n",
      "[[3. 4.]\n",
      " [5. 6.]]\n",
      "---------------\n",
      "[[1. 2.]\n",
      " [5. 6.]]\n",
      "[[3. 4.]\n",
      " [7. 8.]]\n",
      "[[2. 3.]\n",
      " [6. 7.]]\n",
      "---------------\n",
      "[[1. 3.]\n",
      " [5. 7.]]\n",
      "[[2. 4.]\n",
      " [6. 8.]]\n",
      "[[1.5 3.5]\n",
      " [5.5 7.5]]\n"
     ]
    }
   ],
   "source": [
    "r1 = tf.reduce_mean([1, 2], axis=0)\n",
    "print(sess.run(r1)) # 1, not 1.5 because of int32\n",
    "\n",
    "_r2 = [[ 1., 2.],\n",
    "      [ 3., 4.]]\n",
    "print(\"_r2[0][1] = \", _r2[0][1])\n",
    "# [0] is index of axis = 0, [1] is index of axis = 1\n",
    "r2 = tf.reduce_mean(_r2)\n",
    "print(sess.run(r2))\n",
    "\n",
    "r3 = tf.reduce_mean(_r2, axis=0)\n",
    "print(sess.run(r3))\n",
    "\n",
    "r4 = tf.reduce_mean(_r2, axis=1)\n",
    "print(sess.run(r4))\n",
    "\n",
    "r5 = tf.reduce_mean(_r2, axis=-1)\n",
    "print(sess.run(r5))\n",
    "\n",
    "_r6 = np.array([[[1., 2.],[3., 4.]],\n",
    "              [[5., 6.],[7., 8.]]])\n",
    "print(\"-- 2x2x2 ------\")\n",
    "print(_r6.shape)\n",
    "\n",
    "r6 = tf.reduce_mean(_r6, axis=0)\n",
    "print(\"---------------\")\n",
    "print(_r6[0,:,:])\n",
    "print(_r6[1,:,:])\n",
    "print(sess.run(r6))\n",
    "\n",
    "r7 = tf.reduce_mean(_r6, axis=1)\n",
    "print(\"---------------\")\n",
    "print(_r6[:,0,:])\n",
    "print(_r6[:,1,:])\n",
    "print(sess.run(r7))\n",
    "\n",
    "r8 = tf.reduce_mean(_r6, axis=2)\n",
    "print(\"---------------\")\n",
    "print(_r6[:,:,0])\n",
    "print(_r6[:,:,1])\n",
    "print(sess.run(r8))"
   ]
  },
  {
   "cell_type": "markdown",
   "metadata": {},
   "source": [
    "reduce_sum"
   ]
  },
  {
   "cell_type": "code",
   "execution_count": 7,
   "metadata": {},
   "outputs": [
    {
     "name": "stdout",
     "output_type": "stream",
     "text": [
      "---------------\n",
      "[1. 2.]\n",
      "[3. 4.]\n",
      "[4. 6.]\n",
      "---------------\n",
      "[1. 3.]\n",
      "[2. 4.]\n",
      "[3. 7.]\n",
      "---------------\n",
      "5.0\n"
     ]
    }
   ],
   "source": [
    "_s2 = np.array(_r2)\n",
    "s1 = tf.reduce_sum(_s2, axis=0)\n",
    "print(\"---------------\")\n",
    "print(_s2[0,:])\n",
    "print(_s2[1,:])\n",
    "print(sess.run(s1))\n",
    "\n",
    "s2 = tf.reduce_sum(_s2, axis=1)\n",
    "print(\"---------------\")\n",
    "print(_s2[:,0])\n",
    "print(_s2[:,1])\n",
    "print(sess.run(s2))\n",
    "\n",
    "s3 = tf.reduce_mean(tf.reduce_sum(_s2, axis=-1))\n",
    "print(\"---------------\")\n",
    "print(sess.run(s3))"
   ]
  },
  {
   "cell_type": "markdown",
   "metadata": {},
   "source": [
    "argmax"
   ]
  },
  {
   "cell_type": "code",
   "execution_count": 8,
   "metadata": {},
   "outputs": [
    {
     "name": "stdout",
     "output_type": "stream",
     "text": [
      "---------------\n",
      "[0 1 2]\n",
      "[2 1 0]\n",
      "[1 0 0]\n",
      "---------------\n",
      "[0 2]\n",
      "[1 1]\n",
      "[2 0]\n",
      "[2 0]\n"
     ]
    }
   ],
   "source": [
    "_m2 = np.array([[0, 1, 2],\n",
    "                [2, 1, 0]])\n",
    "m1 = tf.argmax(_m2, axis=0)\n",
    "print(\"---------------\")\n",
    "print(_m2[0,:])\n",
    "print(_m2[1,:])\n",
    "print(sess.run(m1)) # return value is index of series\n",
    "\n",
    "m2 = tf.argmax(_m2, axis=1)\n",
    "print(\"---------------\")\n",
    "print(_m2[:,0])\n",
    "print(_m2[:,1])\n",
    "print(_m2[:,2])\n",
    "print(sess.run(m2))\n"
   ]
  },
  {
   "cell_type": "markdown",
   "metadata": {},
   "source": [
    "reshape, squeeze, expand"
   ]
  },
  {
   "cell_type": "code",
   "execution_count": 9,
   "metadata": {},
   "outputs": [
    {
     "name": "stdout",
     "output_type": "stream",
     "text": [
      "(2, 3)\n",
      "[[0 1]\n",
      " [2 2]\n",
      " [1 0]]\n",
      "[[[[0 1]]]\n",
      "\n",
      "\n",
      " [[[2 2]]]\n",
      "\n",
      "\n",
      " [[[1 0]]]]\n",
      "[0 1 2]\n",
      "[[0 1]\n",
      " [2 2]\n",
      " [1 0]]\n",
      "(3, 2) (3, 1, 2) [[[0 1]]\n",
      "\n",
      " [[2 2]]\n",
      "\n",
      " [[1 0]]]\n"
     ]
    }
   ],
   "source": [
    "print(_m2.shape)\n",
    "\n",
    "h1 = tf.reshape(_m2, shape=[-1, 2])\n",
    "print(sess.run(h1))\n",
    "\n",
    "h2 = tf.reshape(_m2, shape=[-1, 1, 1, 2])\n",
    "h3 = sess.run(h2)\n",
    "print(h3)\n",
    "\n",
    "h4 = tf.squeeze([[0], [1], [2]])\n",
    "print(sess.run(h4))\n",
    "\n",
    "h5 = tf.squeeze(h3)\n",
    "h6 = sess.run(h5)\n",
    "print(h6)\n",
    "\n",
    "h7 = tf.expand_dims(h6, 1)\n",
    "h8 = sess.run(h7)\n",
    "print(h6.shape, h8.shape, h8)"
   ]
  },
  {
   "cell_type": "markdown",
   "metadata": {},
   "source": [
    "onehot"
   ]
  },
  {
   "cell_type": "code",
   "execution_count": 10,
   "metadata": {},
   "outputs": [
    {
     "name": "stdout",
     "output_type": "stream",
     "text": [
      "[[[1. 0. 0. 0.]]\n",
      "\n",
      " [[0. 1. 0. 0.]]\n",
      "\n",
      " [[0. 0. 1. 0.]]\n",
      "\n",
      " [[1. 0. 0. 0.]]]\n",
      "[[1. 0. 0. 0.]\n",
      " [0. 1. 0. 0.]\n",
      " [0. 0. 1. 0.]\n",
      " [1. 0. 0. 0.]]\n",
      "[0 1 2 0]\n"
     ]
    }
   ],
   "source": [
    "_o0 = np.array([[0], [1], [2], [0]])\n",
    "_o1 = tf.one_hot(_o0, depth=4)\n",
    "o1 = sess.run(_o1)\n",
    "print(o1)\n",
    "\n",
    "_o2 = tf.reshape(o1, shape=[-1, 4])\n",
    "o2 = sess.run(_o2)\n",
    "print(o2)\n",
    "\n",
    "_o3 = tf.argmax(o2, axis=-1)\n",
    "o3 = sess.run(_o3)\n",
    "print(o3)"
   ]
  },
  {
   "cell_type": "markdown",
   "metadata": {},
   "source": [
    "casting"
   ]
  },
  {
   "cell_type": "code",
   "execution_count": 11,
   "metadata": {},
   "outputs": [
    {
     "name": "stdout",
     "output_type": "stream",
     "text": [
      "[1 2 3 4]\n",
      "[1 0 1 0]\n"
     ]
    }
   ],
   "source": [
    "c1 = tf.cast([1.8, 2.2, 3.3, 4.4], tf.int32).eval(session=sess)\n",
    "print(c1)\n",
    "\n",
    "c2 = tf.cast([True, False, 1 == 1, 1 == 0], tf.int32).eval(session=sess)\n",
    "print(c2)"
   ]
  },
  {
   "cell_type": "markdown",
   "metadata": {},
   "source": [
    "stack"
   ]
  },
  {
   "cell_type": "code",
   "execution_count": 12,
   "metadata": {},
   "outputs": [
    {
     "name": "stdout",
     "output_type": "stream",
     "text": [
      "[[1 2]\n",
      " [3 4]\n",
      " [5 6]]\n",
      "[[1 3 5]\n",
      " [2 4 6]]\n"
     ]
    }
   ],
   "source": [
    "_c3 = [1, 2]\n",
    "_c4 = [3, 4]\n",
    "_c5 = [5, 6]\n",
    "c6 = tf.stack([_c3, _c4, _c5]).eval(session=sess)\n",
    "print(c6)\n",
    "\n",
    "c7 = tf.stack([_c3, _c4, _c5], axis=1).eval(session=sess)\n",
    "print(c7)"
   ]
  },
  {
   "cell_type": "markdown",
   "metadata": {},
   "source": [
    "ones and zeros like"
   ]
  },
  {
   "cell_type": "code",
   "execution_count": 13,
   "metadata": {},
   "outputs": [
    {
     "name": "stdout",
     "output_type": "stream",
     "text": [
      "[[0 1 2]\n",
      " [2 1 0]]\n",
      "[[1 1 1]\n",
      " [1 1 1]]\n",
      "[[0 0 0]\n",
      " [0 0 0]]\n"
     ]
    }
   ],
   "source": [
    "print(_m2)\n",
    "z1 = tf.ones_like(_m2).eval(session=sess)\n",
    "print(z1)\n",
    "\n",
    "z2 = tf.zeros_like(_m2).eval(session=sess)\n",
    "print(z2)"
   ]
  },
  {
   "cell_type": "markdown",
   "metadata": {},
   "source": [
    "zip"
   ]
  },
  {
   "cell_type": "code",
   "execution_count": 14,
   "metadata": {},
   "outputs": [
    {
     "name": "stdout",
     "output_type": "stream",
     "text": [
      "1 4\n",
      "2 5\n",
      "3 6\n",
      "1 4 7\n",
      "2 5 8\n",
      "3 6 9\n"
     ]
    }
   ],
   "source": [
    "_z3 = [1, 2, 3]\n",
    "_z4 = [4, 5, 6]\n",
    "_z5 = [7, 8, 9]\n",
    "\n",
    "for x, y in zip(_z3, _z4):\n",
    "    print(x, y)\n",
    "    \n",
    "for x, y, z in zip(_z3, _z4, _z5):\n",
    "    print(x, y, z)"
   ]
  }
 ],
 "metadata": {
  "kernelspec": {
   "display_name": "Python 3",
   "language": "python",
   "name": "python3"
  },
  "language_info": {
   "codemirror_mode": {
    "name": "ipython",
    "version": 3
   },
   "file_extension": ".py",
   "mimetype": "text/x-python",
   "name": "python",
   "nbconvert_exporter": "python",
   "pygments_lexer": "ipython3",
   "version": "3.6.2"
  }
 },
 "nbformat": 4,
 "nbformat_minor": 2
}
