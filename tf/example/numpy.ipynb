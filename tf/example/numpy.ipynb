{
 "cells": [
  {
   "cell_type": "markdown",
   "metadata": {},
   "source": [
    "### Example 1"
   ]
  },
  {
   "cell_type": "markdown",
   "metadata": {},
   "source": [
    "Basic slicing is an extension of Python's basic concept of slicing to n dimensions. A Python slice object is constructed by giving start, stop, and step parameters to the built-in slice function. This slice object is passed to the array to extract a part of array."
   ]
  },
  {
   "cell_type": "code",
   "execution_count": 2,
   "metadata": {},
   "outputs": [
    {
     "name": "stdout",
     "output_type": "stream",
     "text": [
      "[2 4 6]\n"
     ]
    }
   ],
   "source": [
    "import numpy as np \n",
    "a = np.arange(10) \n",
    "s = slice(2,7,2) \n",
    "print(a[s])"
   ]
  },
  {
   "cell_type": "markdown",
   "metadata": {},
   "source": [
    "In the above example, an ndarray object is prepared by arange() function. Then a slice object is defined with start, stop, and step values 2, 7, and 2 respectively. When this slice object is passed to the ndarray, a part of it starting with index 2 up to 7 with a step of 2 is sliced."
   ]
  },
  {
   "cell_type": "markdown",
   "metadata": {},
   "source": [
    "### Example 2"
   ]
  },
  {
   "cell_type": "markdown",
   "metadata": {},
   "source": [
    "The same result can also be obtained by giving the slicing parameters separated by a colon : (start:stop:step) directly to the ndarray object."
   ]
  },
  {
   "cell_type": "code",
   "execution_count": 3,
   "metadata": {},
   "outputs": [
    {
     "name": "stdout",
     "output_type": "stream",
     "text": [
      "[2 4 6]\n"
     ]
    }
   ],
   "source": [
    "import numpy as np \n",
    "a = np.arange(10) \n",
    "b = a[2:7:2] \n",
    "print(b)"
   ]
  },
  {
   "cell_type": "markdown",
   "metadata": {},
   "source": [
    "### Example 3"
   ]
  },
  {
   "cell_type": "markdown",
   "metadata": {},
   "source": [
    "If only one parameter is put, a single item corresponding to the index will be returned. If a : is inserted in front of it, all items from that index onwards will be extracted. If two parameters (with : between them) is used, items between the two indexes (not including the stop index) with default step one are sliced."
   ]
  },
  {
   "cell_type": "code",
   "execution_count": 4,
   "metadata": {},
   "outputs": [
    {
     "name": "stdout",
     "output_type": "stream",
     "text": [
      "5\n"
     ]
    }
   ],
   "source": [
    "# slice single item \n",
    "import numpy as np \n",
    "\n",
    "a = np.arange(10) \n",
    "b = a[5] \n",
    "print(b)"
   ]
  },
  {
   "cell_type": "code",
   "execution_count": 5,
   "metadata": {},
   "outputs": [
    {
     "name": "stdout",
     "output_type": "stream",
     "text": [
      "[2 3 4 5 6 7 8 9]\n"
     ]
    }
   ],
   "source": [
    "# slice items starting from index \n",
    "import numpy as np \n",
    "a = np.arange(10) \n",
    "print(a[2:])"
   ]
  },
  {
   "cell_type": "code",
   "execution_count": 6,
   "metadata": {},
   "outputs": [
    {
     "name": "stdout",
     "output_type": "stream",
     "text": [
      "[2 3 4]\n"
     ]
    }
   ],
   "source": [
    "# slice items between indexes \n",
    "import numpy as np \n",
    "a = np.arange(10) \n",
    "print(a[2:5])"
   ]
  },
  {
   "cell_type": "markdown",
   "metadata": {},
   "source": [
    "The above description applies to multi-dimensional ndarray too."
   ]
  },
  {
   "cell_type": "code",
   "execution_count": 7,
   "metadata": {},
   "outputs": [
    {
     "name": "stdout",
     "output_type": "stream",
     "text": [
      "[[1 2 3]\n",
      " [3 4 5]\n",
      " [4 5 6]]\n",
      "Now we will slice the array from the index a[1:]\n",
      "[[3 4 5]\n",
      " [4 5 6]]\n"
     ]
    }
   ],
   "source": [
    "import numpy as np \n",
    "a = np.array([[1,2,3],[3,4,5],[4,5,6]]) \n",
    "print(a)  \n",
    "\n",
    "# slice items starting from index\n",
    "print('Now we will slice the array from the index a[1:]') \n",
    "print(a[1:])"
   ]
  },
  {
   "cell_type": "markdown",
   "metadata": {},
   "source": [
    "### Example 4"
   ]
  },
  {
   "cell_type": "markdown",
   "metadata": {},
   "source": [
    "Slicing can also include ellipsis (…) to make a selection tuple of the same length as the dimension of an array. If ellipsis is used at the row position, it will return an ndarray comprising of items in rows."
   ]
  },
  {
   "cell_type": "code",
   "execution_count": 8,
   "metadata": {},
   "outputs": [
    {
     "name": "stdout",
     "output_type": "stream",
     "text": [
      "Our array is:\n",
      "[[1 2 3]\n",
      " [3 4 5]\n",
      " [4 5 6]]\n",
      "\n",
      "\n",
      "The items in the second column are:\n",
      "[2 4 5]\n",
      "\n",
      "\n",
      "The items in the second row are:\n",
      "[3 4 5]\n",
      "\n",
      "\n",
      "The items column 1 onwards are:\n",
      "[[2 3]\n",
      " [4 5]\n",
      " [5 6]]\n"
     ]
    }
   ],
   "source": [
    "# array to begin with \n",
    "import numpy as np \n",
    "a = np.array([[1,2,3],[3,4,5],[4,5,6]]) \n",
    "\n",
    "print('Our array is:') \n",
    "print(a)\n",
    "print('\\n')  \n",
    "\n",
    "# this returns array of items in the second column \n",
    "print('The items in the second column are:')\n",
    "print(a[...,1]) \n",
    "print('\\n')  \n",
    "\n",
    "# Now we will slice all items from the second row \n",
    "print('The items in the second row are:')\n",
    "print(a[1,...])\n",
    "print('\\n')\n",
    "\n",
    "# Now we will slice all items from column 1 onwards \n",
    "print('The items column 1 onwards are:')\n",
    "print(a[...,1:])"
   ]
  }
 ],
 "metadata": {
  "kernelspec": {
   "display_name": "Python 3",
   "language": "python",
   "name": "python3"
  },
  "language_info": {
   "codemirror_mode": {
    "name": "ipython",
    "version": 3
   },
   "file_extension": ".py",
   "mimetype": "text/x-python",
   "name": "python",
   "nbconvert_exporter": "python",
   "pygments_lexer": "ipython3",
   "version": "3.6.2"
  }
 },
 "nbformat": 4,
 "nbformat_minor": 2
}
