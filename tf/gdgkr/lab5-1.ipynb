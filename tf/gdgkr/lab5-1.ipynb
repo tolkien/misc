{
 "cells": [
  {
   "cell_type": "markdown",
   "metadata": {},
   "source": [
    "Training Data"
   ]
  },
  {
   "cell_type": "code",
   "execution_count": 3,
   "metadata": {},
   "outputs": [],
   "source": [
    "# Lab 5 Logistic Regression Classifier\n",
    "import tensorflow as tf\n",
    "tf.set_random_seed(777)  # for reproducibility\n",
    "\n",
    "x_data = [[1, 2],\n",
    "          [2, 3],\n",
    "          [3, 1],\n",
    "          [4, 3],\n",
    "          [5, 3],\n",
    "          [6, 2]]\n",
    "y_data = [[0],\n",
    "          [0],\n",
    "          [0],\n",
    "          [1],\n",
    "          [1],\n",
    "          [1]]"
   ]
  },
  {
   "cell_type": "markdown",
   "metadata": {},
   "source": [
    "setting placeholder, variables"
   ]
  },
  {
   "cell_type": "code",
   "execution_count": 5,
   "metadata": {},
   "outputs": [],
   "source": [
    "X = tf.placeholder(tf.float32, shape=[None, 2])\n",
    "Y = tf.placeholder(tf.float32, shape=[None, 1])\n",
    "W = tf.Variable(tf.random_normal([2, 1]), name='weight')\n",
    "b = tf.Variable(tf.random_normal([1]), name='bias')"
   ]
  },
  {
   "cell_type": "markdown",
   "metadata": {},
   "source": [
    "build a model"
   ]
  },
  {
   "cell_type": "code",
   "execution_count": 7,
   "metadata": {},
   "outputs": [],
   "source": [
    "# Hypothesis using sigmoid: tf.div(1., 1. + tf.exp(tf.matmul(X, W)))\n",
    "hypothesis = tf.sigmoid(tf.matmul(X, W) + b)\n",
    "\n",
    "cost = -tf.reduce_mean(Y * tf.log(hypothesis) + (1 - Y) * tf.log(1 - hypothesis))\n",
    "\n",
    "train = tf.train.GradientDescentOptimizer(learning_rate=0.01).minimize(cost)\n",
    "\n",
    "predicted = tf.cast(hypothesis > 0.5, dtype=tf.float32)\n",
    "accuracy = tf.reduce_mean(tf.cast(tf.equal(predicted, Y), dtype=tf.float32))"
   ]
  },
  {
   "cell_type": "markdown",
   "metadata": {},
   "source": [
    "train a model"
   ]
  },
  {
   "cell_type": "code",
   "execution_count": 8,
   "metadata": {},
   "outputs": [
    {
     "name": "stdout",
     "output_type": "stream",
     "text": [
      "0 0.76406986\n",
      "200 0.6289258\n",
      "400 0.60270756\n",
      "600 0.5783332\n",
      "800 0.55558103\n",
      "1000 0.5342553\n",
      "1200 0.5141907\n",
      "1400 0.49525246\n",
      "1600 0.47733387\n",
      "1800 0.4603503\n",
      "2000 0.44423425\n",
      "2200 0.42892995\n",
      "2400 0.41439047\n",
      "2600 0.40057412\n",
      "2800 0.38744292\n",
      "3000 0.37496173\n",
      "3200 0.36309695\n",
      "3400 0.35181677\n",
      "3600 0.3410903\n",
      "3800 0.3308881\n",
      "4000 0.32118163\n",
      "4200 0.31194416\n",
      "4400 0.30314937\n",
      "4600 0.29477265\n",
      "4800 0.28679043\n",
      "5000 0.27918032\n",
      "5200 0.2719212\n",
      "5400 0.26499313\n",
      "5600 0.2583772\n",
      "5800 0.25205573\n",
      "6000 0.24601209\n",
      "6200 0.24023038\n",
      "6400 0.23469602\n",
      "6600 0.2293952\n",
      "6800 0.22431481\n",
      "7000 0.21944284\n",
      "7200 0.2147678\n",
      "7400 0.21027906\n",
      "7600 0.20596664\n",
      "7800 0.2018209\n",
      "8000 0.19783337\n",
      "8200 0.19399571\n",
      "8400 0.19030003\n",
      "8600 0.18673925\n",
      "8800 0.18330646\n",
      "9000 0.17999522\n",
      "9200 0.17679958\n",
      "9400 0.17371391\n",
      "9600 0.17073281\n",
      "9800 0.16785139\n",
      "10000 0.16506489\n",
      "\n",
      "hypothesis:  [[0.03754993]\n",
      " [0.16715911]\n",
      " [0.33595693]\n",
      " [0.76751703]\n",
      " [0.93050444]\n",
      " [0.9771746 ]] \n",
      "Correct(Y):  [[0.]\n",
      " [0.]\n",
      " [0.]\n",
      " [1.]\n",
      " [1.]\n",
      " [1.]] \n",
      "Accuracy:  1.0\n"
     ]
    }
   ],
   "source": [
    "with tf.Session() as sess:\n",
    "    sess.run(tf.global_variables_initializer())\n",
    "    \n",
    "    for step in range(10001):\n",
    "        cost_val, _ = sess.run([cost, train], feed_dict={X: x_data, Y: y_data})\n",
    "        if step % 200 == 0:\n",
    "            print(step, cost_val)\n",
    "            \n",
    "    # accuracy report\n",
    "    h, c, a = sess.run([hypothesis, predicted, accuracy], feed_dict={X: x_data, Y: y_data})\n",
    "    print(\"\\nhypothesis: \", h, \"\\nCorrect(Y): \", c, \"\\nAccuracy: \", a)    "
   ]
  }
 ],
 "metadata": {
  "kernelspec": {
   "display_name": "Python 3",
   "language": "python",
   "name": "python3"
  },
  "language_info": {
   "codemirror_mode": {
    "name": "ipython",
    "version": 3
   },
   "file_extension": ".py",
   "mimetype": "text/x-python",
   "name": "python",
   "nbconvert_exporter": "python",
   "pygments_lexer": "ipython3",
   "version": "3.6.2"
  }
 },
 "nbformat": 4,
 "nbformat_minor": 2
}
