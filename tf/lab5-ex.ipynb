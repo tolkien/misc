{
 "cells": [
  {
   "cell_type": "markdown",
   "metadata": {},
   "source": [
    "Training Data"
   ]
  },
  {
   "cell_type": "code",
   "execution_count": 1,
   "metadata": {},
   "outputs": [
    {
     "name": "stdout",
     "output_type": "stream",
     "text": [
      "Tensor(\"ReaderReadV2:1\", shape=(), dtype=string)\n"
     ]
    }
   ],
   "source": [
    "# Lab 5 Logistic Regression Classifier\n",
    "import tensorflow as tf\n",
    "import numpy as np\n",
    "tf.set_random_seed(743)  # for reproducibility\n",
    "\n",
    "# https://www.kaggle.com/primaryobjects/voicegender\n",
    "file_queue = tf.train.string_input_producer(\n",
    "    ['voice.csv'], name='file_queue')\n",
    "\n",
    "reader = tf.TextLineReader()\n",
    "_, value = reader.read(file_queue)\n",
    "\n",
    "print(value)"
   ]
  },
  {
   "cell_type": "code",
   "execution_count": null,
   "metadata": {},
   "outputs": [],
   "source": [
    "\n",
    "conv_dic = { b'male': 1., b'female' : 0.}\n",
    "record_defaults = [[0.], [0.], [0.], [0.], [0.],\n",
    "                   [0.], [0.], [0.], [0.], [0.],\n",
    "                   [0.], [0.], [0.], [0.], [0.],\n",
    "                   [0.], [0.], [0.], [0.], [0.], [b'male']]\n",
    "xy = tf.decode_csv(value, record_defaults=record_defaults)\n",
    "\n",
    "sess = tf.Session()\n",
    "print(sess.run(value))\n",
    "\n",
    "# collect batches of csv in\n",
    "train_x_batch, train_y_batch = \\\n",
    "    tf.train.batch([xy[2:6], xy[-1:]], batch_size=32)"
   ]
  },
  {
   "cell_type": "markdown",
   "metadata": {},
   "source": [
    "build a model"
   ]
  },
  {
   "cell_type": "code",
   "execution_count": 12,
   "metadata": {},
   "outputs": [],
   "source": [
    "X = tf.placeholder(tf.float32, shape=[None, 4])\n",
    "Y = tf.placeholder(tf.float32, shape=[None, 1])\n",
    "W = tf.Variable(tf.random_normal([4, 1]), name='weight')\n",
    "b = tf.Variable(tf.random_normal([1]), name='bias')\n",
    "\n",
    "# Hypothesis using sigmoid: tf.div(1., 1. + tf.exp(tf.matmul(X, W)))\n",
    "hypothesis = tf.sigmoid(tf.matmul(X, W) + b)\n",
    "\n",
    "cost = -tf.reduce_mean(Y * tf.log(hypothesis) + (1 - Y) * tf.log(1 - hypothesis))\n",
    "\n",
    "train = tf.train.GradientDescentOptimizer(learning_rate=0.01).minimize(cost)\n",
    "\n",
    "predicted = tf.cast(hypothesis > 0.5, dtype=tf.float32)\n",
    "accuracy = tf.reduce_mean(tf.cast(tf.equal(predicted, Y), dtype=tf.float32))"
   ]
  },
  {
   "cell_type": "markdown",
   "metadata": {},
   "source": [
    "train a model"
   ]
  },
  {
   "cell_type": "code",
   "execution_count": 13,
   "metadata": {},
   "outputs": [
    {
     "name": "stdout",
     "output_type": "stream",
     "text": [
      "0 1.5677602\n",
      "200 1.1556385\n",
      "400 0.94385254\n",
      "600 0.80007625\n",
      "800 0.7817553\n",
      "1000 0.7382495\n",
      "1200 0.7358403\n",
      "1400 0.7022146\n",
      "1600 0.6574004\n",
      "1800 0.65852153\n",
      "2000 0.6671367\n",
      "2200 0.66944045\n",
      "2400 0.6789074\n",
      "2600 0.67196184\n",
      "2800 0.6651708\n",
      "3000 0.6688529\n",
      "3200 0.6601175\n",
      "3400 0.65097696\n",
      "3600 0.6434678\n",
      "3800 0.6305413\n",
      "4000 0.63463455\n",
      "Accuracy:  1.0\n",
      "Accuracy:  1.0\n",
      "Accuracy:  1.0\n",
      "Accuracy:  1.0\n",
      "Accuracy:  0.9375\n",
      "Accuracy:  1.0\n",
      "Accuracy:  1.0\n",
      "Accuracy:  0.78125\n",
      "Accuracy:  0.40625\n",
      "Accuracy:  0.3125\n",
      "Accuracy:  0.0625\n"
     ]
    }
   ],
   "source": [
    "with tf.Session() as sess:\n",
    "    sess.run(tf.global_variables_initializer())\n",
    "    \n",
    "    coord = tf.train.Coordinator()\n",
    "    threads = tf.train.start_queue_runners(sess=sess, coord=coord)\n",
    "    x_data, y_data = sess.run([train_x_batch, train_y_batch])\n",
    "    for step in range(4001):\n",
    "        x_data, y_data = sess.run([train_x_batch, train_y_batch])\n",
    "        for i in range(32):\n",
    "            y_data[i][0] = conv_dic[y_data[i][0]]\n",
    "        cost_val, _ = sess.run([cost, train], feed_dict={X: x_data, Y: y_data})\n",
    "        if step % 200 == 0:\n",
    "            print(step, cost_val)\n",
    "    \n",
    "    for step in range(11):\n",
    "        # accuracy report\n",
    "        x_data, y_data = sess.run([train_x_batch, train_y_batch])\n",
    "        for i in range(32):\n",
    "            y_data[i][0] = conv_dic[y_data[i][0]]\n",
    "        h, c, a = sess.run([hypothesis, predicted, accuracy], feed_dict={X: x_data, Y: y_data})\n",
    "        if step % 1 == 0:\n",
    "            print(\"Accuracy: \", a)\n",
    "\n",
    "    coord.request_stop()\n",
    "    coord.join(threads)"
   ]
  }
 ],
 "metadata": {
  "kernelspec": {
   "display_name": "Python 3",
   "language": "python",
   "name": "python3"
  },
  "language_info": {
   "codemirror_mode": {
    "name": "ipython",
    "version": 3
   },
   "file_extension": ".py",
   "mimetype": "text/x-python",
   "name": "python",
   "nbconvert_exporter": "python",
   "pygments_lexer": "ipython3",
   "version": "3.6.2"
  }
 },
 "nbformat": 4,
 "nbformat_minor": 2
}
